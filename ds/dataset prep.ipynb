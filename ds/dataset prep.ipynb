{
 "cells": [
  {
   "cell_type": "code",
   "execution_count": 10,
   "id": "2439b4c4-8a47-4513-bfad-bc330c48e6d3",
   "metadata": {},
   "outputs": [
    {
     "name": "stdout",
     "output_type": "stream",
     "text": [
      "Requirement already satisfied: numpy>=1.23.0 in c:\\users\\naya\\appdata\\local\\programs\\python\\python310\\lib\\site-packages (from -r requirements.txt (line 1)) (2.0.2)\n",
      "Requirement already satisfied: scipy>=1.9.0 in c:\\users\\naya\\appdata\\local\\programs\\python\\python310\\lib\\site-packages (from -r requirements.txt (line 2)) (1.15.1)\n",
      "Requirement already satisfied: pandas>=1.4.0 in c:\\users\\naya\\appdata\\local\\programs\\python\\python310\\lib\\site-packages (from -r requirements.txt (line 3)) (2.2.3)\n",
      "Requirement already satisfied: matplotlib>=3.5.0 in c:\\users\\naya\\appdata\\local\\programs\\python\\python310\\lib\\site-packages (from -r requirements.txt (line 4)) (3.10.0)\n",
      "Requirement already satisfied: seaborn>=0.11.2 in c:\\users\\naya\\appdata\\roaming\\python\\python310\\site-packages (from -r requirements.txt (line 5)) (0.13.2)\n",
      "Requirement already satisfied: scikit-learn>=1.0.0 in c:\\users\\naya\\appdata\\roaming\\python\\python310\\site-packages (from -r requirements.txt (line 6)) (1.6.1)\n",
      "Requirement already satisfied: torch>=1.12.0 in c:\\users\\naya\\appdata\\roaming\\python\\python310\\site-packages (from -r requirements.txt (line 7)) (2.6.0)\n",
      "Requirement already satisfied: pillow>=9.0.0 in c:\\users\\naya\\appdata\\local\\programs\\python\\python310\\lib\\site-packages (from -r requirements.txt (line 8)) (11.1.0)\n",
      "Requirement already satisfied: pyyaml>=6.0 in c:\\users\\naya\\appdata\\local\\programs\\python\\python310\\lib\\site-packages (from -r requirements.txt (line 9)) (6.0.2)\n",
      "Requirement already satisfied: transformers>=4.48.3 in c:\\users\\naya\\appdata\\roaming\\python\\python310\\site-packages (from -r requirements.txt (line 10)) (4.48.3)\n",
      "Requirement already satisfied: nltk>=3.7 in c:\\users\\naya\\appdata\\roaming\\python\\python310\\site-packages (from -r requirements.txt (line 11)) (3.9.1)\n",
      "Requirement already satisfied: spacy>=3.4.0 in c:\\users\\naya\\appdata\\roaming\\python\\python310\\site-packages (from -r requirements.txt (line 12)) (3.8.4)\n",
      "Requirement already satisfied: jupyterlab>=3.4.0 in c:\\users\\naya\\appdata\\local\\programs\\python\\python310\\lib\\site-packages (from -r requirements.txt (line 13)) (4.3.5)\n",
      "Requirement already satisfied: xgboost>=1.6.0 in c:\\users\\naya\\appdata\\roaming\\python\\python310\\site-packages (from -r requirements.txt (line 14)) (2.1.4)\n",
      "Requirement already satisfied: lightgbm>=3.3.0 in c:\\users\\naya\\appdata\\roaming\\python\\python310\\site-packages (from -r requirements.txt (line 15)) (4.5.0)\n",
      "Requirement already satisfied: plotly>=5.9.0 in c:\\users\\naya\\appdata\\local\\programs\\python\\python310\\lib\\site-packages (from -r requirements.txt (line 16)) (6.0.0)\n",
      "Requirement already satisfied: dash>=2.6.0 in c:\\users\\naya\\appdata\\roaming\\python\\python310\\site-packages (from -r requirements.txt (line 17)) (2.18.2)\n",
      "Requirement already satisfied: kagglehub>=0.3.7 in c:\\users\\naya\\appdata\\local\\programs\\python\\python310\\lib\\site-packages (from -r requirements.txt (line 18)) (0.3.7)\n",
      "Requirement already satisfied: python-dateutil>=2.8.2 in c:\\users\\naya\\appdata\\local\\programs\\python\\python310\\lib\\site-packages (from pandas>=1.4.0->-r requirements.txt (line 3)) (2.9.0.post0)\n",
      "Requirement already satisfied: tzdata>=2022.7 in c:\\users\\naya\\appdata\\local\\programs\\python\\python310\\lib\\site-packages (from pandas>=1.4.0->-r requirements.txt (line 3)) (2025.1)\n",
      "Requirement already satisfied: pytz>=2020.1 in c:\\users\\naya\\appdata\\local\\programs\\python\\python310\\lib\\site-packages (from pandas>=1.4.0->-r requirements.txt (line 3)) (2025.1)\n",
      "Requirement already satisfied: kiwisolver>=1.3.1 in c:\\users\\naya\\appdata\\local\\programs\\python\\python310\\lib\\site-packages (from matplotlib>=3.5.0->-r requirements.txt (line 4)) (1.4.8)\n",
      "Requirement already satisfied: pyparsing>=2.3.1 in c:\\users\\naya\\appdata\\local\\programs\\python\\python310\\lib\\site-packages (from matplotlib>=3.5.0->-r requirements.txt (line 4)) (3.2.1)\n",
      "Requirement already satisfied: contourpy>=1.0.1 in c:\\users\\naya\\appdata\\local\\programs\\python\\python310\\lib\\site-packages (from matplotlib>=3.5.0->-r requirements.txt (line 4)) (1.3.1)\n",
      "Requirement already satisfied: fonttools>=4.22.0 in c:\\users\\naya\\appdata\\local\\programs\\python\\python310\\lib\\site-packages (from matplotlib>=3.5.0->-r requirements.txt (line 4)) (4.55.8)\n",
      "Requirement already satisfied: cycler>=0.10 in c:\\users\\naya\\appdata\\local\\programs\\python\\python310\\lib\\site-packages (from matplotlib>=3.5.0->-r requirements.txt (line 4)) (0.12.1)\n",
      "Requirement already satisfied: packaging>=20.0 in c:\\users\\naya\\appdata\\local\\programs\\python\\python310\\lib\\site-packages (from matplotlib>=3.5.0->-r requirements.txt (line 4)) (24.2)\n",
      "Requirement already satisfied: threadpoolctl>=3.1.0 in c:\\users\\naya\\appdata\\local\\programs\\python\\python310\\lib\\site-packages (from scikit-learn>=1.0.0->-r requirements.txt (line 6)) (3.5.0)\n",
      "Requirement already satisfied: joblib>=1.2.0 in c:\\users\\naya\\appdata\\roaming\\python\\python310\\site-packages (from scikit-learn>=1.0.0->-r requirements.txt (line 6)) (1.4.2)\n",
      "Requirement already satisfied: jinja2 in c:\\users\\naya\\appdata\\local\\programs\\python\\python310\\lib\\site-packages (from torch>=1.12.0->-r requirements.txt (line 7)) (3.1.5)\n",
      "Requirement already satisfied: typing-extensions>=4.10.0 in c:\\users\\naya\\appdata\\local\\programs\\python\\python310\\lib\\site-packages (from torch>=1.12.0->-r requirements.txt (line 7)) (4.12.2)\n",
      "Requirement already satisfied: fsspec in c:\\users\\naya\\appdata\\local\\programs\\python\\python310\\lib\\site-packages (from torch>=1.12.0->-r requirements.txt (line 7)) (2025.2.0)\n",
      "Requirement already satisfied: sympy==1.13.1 in c:\\users\\naya\\appdata\\local\\programs\\python\\python310\\lib\\site-packages (from torch>=1.12.0->-r requirements.txt (line 7)) (1.13.1)\n",
      "Requirement already satisfied: networkx in c:\\users\\naya\\appdata\\local\\programs\\python\\python310\\lib\\site-packages (from torch>=1.12.0->-r requirements.txt (line 7)) (3.4.2)\n",
      "Requirement already satisfied: filelock in c:\\users\\naya\\appdata\\local\\programs\\python\\python310\\lib\\site-packages (from torch>=1.12.0->-r requirements.txt (line 7)) (3.17.0)\n",
      "Requirement already satisfied: mpmath<1.4,>=1.1.0 in c:\\users\\naya\\appdata\\local\\programs\\python\\python310\\lib\\site-packages (from sympy==1.13.1->torch>=1.12.0->-r requirements.txt (line 7)) (1.3.0)\n",
      "Requirement already satisfied: tqdm>=4.27 in c:\\users\\naya\\appdata\\local\\programs\\python\\python310\\lib\\site-packages (from transformers>=4.48.3->-r requirements.txt (line 10)) (4.67.1)\n",
      "Requirement already satisfied: huggingface-hub<1.0,>=0.24.0 in c:\\users\\naya\\appdata\\local\\programs\\python\\python310\\lib\\site-packages (from transformers>=4.48.3->-r requirements.txt (line 10)) (0.28.1)\n",
      "Requirement already satisfied: requests in c:\\users\\naya\\appdata\\local\\programs\\python\\python310\\lib\\site-packages (from transformers>=4.48.3->-r requirements.txt (line 10)) (2.32.3)\n",
      "Requirement already satisfied: safetensors>=0.4.1 in c:\\users\\naya\\appdata\\local\\programs\\python\\python310\\lib\\site-packages (from transformers>=4.48.3->-r requirements.txt (line 10)) (0.5.2)\n",
      "Requirement already satisfied: regex!=2019.12.17 in c:\\users\\naya\\appdata\\local\\programs\\python\\python310\\lib\\site-packages (from transformers>=4.48.3->-r requirements.txt (line 10)) (2024.11.6)\n",
      "Requirement already satisfied: tokenizers<0.22,>=0.21 in c:\\users\\naya\\appdata\\local\\programs\\python\\python310\\lib\\site-packages (from transformers>=4.48.3->-r requirements.txt (line 10)) (0.21.0)\n",
      "Requirement already satisfied: click in c:\\users\\naya\\appdata\\local\\programs\\python\\python310\\lib\\site-packages (from nltk>=3.7->-r requirements.txt (line 11)) (8.1.8)\n",
      "Requirement already satisfied: pydantic!=1.8,!=1.8.1,<3.0.0,>=1.7.4 in c:\\users\\naya\\appdata\\local\\programs\\python\\python310\\lib\\site-packages (from spacy>=3.4.0->-r requirements.txt (line 12)) (2.10.6)\n",
      "Requirement already satisfied: wasabi<1.2.0,>=0.9.1 in c:\\users\\naya\\appdata\\local\\programs\\python\\python310\\lib\\site-packages (from spacy>=3.4.0->-r requirements.txt (line 12)) (1.1.3)\n",
      "Requirement already satisfied: catalogue<2.1.0,>=2.0.6 in c:\\users\\naya\\appdata\\local\\programs\\python\\python310\\lib\\site-packages (from spacy>=3.4.0->-r requirements.txt (line 12)) (2.0.10)\n",
      "Requirement already satisfied: langcodes<4.0.0,>=3.2.0 in c:\\users\\naya\\appdata\\roaming\\python\\python310\\site-packages (from spacy>=3.4.0->-r requirements.txt (line 12)) (3.5.0)\n",
      "Requirement already satisfied: preshed<3.1.0,>=3.0.2 in c:\\users\\naya\\appdata\\local\\programs\\python\\python310\\lib\\site-packages (from spacy>=3.4.0->-r requirements.txt (line 12)) (3.0.9)\n",
      "Requirement already satisfied: murmurhash<1.1.0,>=0.28.0 in c:\\users\\naya\\appdata\\local\\programs\\python\\python310\\lib\\site-packages (from spacy>=3.4.0->-r requirements.txt (line 12)) (1.0.12)\n",
      "Requirement already satisfied: typer<1.0.0,>=0.3.0 in c:\\users\\naya\\appdata\\local\\programs\\python\\python310\\lib\\site-packages (from spacy>=3.4.0->-r requirements.txt (line 12)) (0.15.1)\n",
      "Requirement already satisfied: srsly<3.0.0,>=2.4.3 in c:\\users\\naya\\appdata\\local\\programs\\python\\python310\\lib\\site-packages (from spacy>=3.4.0->-r requirements.txt (line 12)) (2.5.1)\n",
      "Requirement already satisfied: weasel<0.5.0,>=0.1.0 in c:\\users\\naya\\appdata\\local\\programs\\python\\python310\\lib\\site-packages (from spacy>=3.4.0->-r requirements.txt (line 12)) (0.4.1)\n",
      "Requirement already satisfied: spacy-legacy<3.1.0,>=3.0.11 in c:\\users\\naya\\appdata\\local\\programs\\python\\python310\\lib\\site-packages (from spacy>=3.4.0->-r requirements.txt (line 12)) (3.0.12)\n",
      "Requirement already satisfied: thinc<8.4.0,>=8.3.4 in c:\\users\\naya\\appdata\\local\\programs\\python\\python310\\lib\\site-packages (from spacy>=3.4.0->-r requirements.txt (line 12)) (8.3.4)\n",
      "Requirement already satisfied: cymem<2.1.0,>=2.0.2 in c:\\users\\naya\\appdata\\local\\programs\\python\\python310\\lib\\site-packages (from spacy>=3.4.0->-r requirements.txt (line 12)) (2.0.11)\n",
      "Requirement already satisfied: setuptools in c:\\users\\naya\\appdata\\local\\programs\\python\\python310\\lib\\site-packages (from spacy>=3.4.0->-r requirements.txt (line 12)) (57.4.0)\n",
      "Requirement already satisfied: spacy-loggers<2.0.0,>=1.0.0 in c:\\users\\naya\\appdata\\local\\programs\\python\\python310\\lib\\site-packages (from spacy>=3.4.0->-r requirements.txt (line 12)) (1.0.5)\n",
      "Requirement already satisfied: jupyter-server<3,>=2.4.0 in c:\\users\\naya\\appdata\\local\\programs\\python\\python310\\lib\\site-packages (from jupyterlab>=3.4.0->-r requirements.txt (line 13)) (2.15.0)\n",
      "Requirement already satisfied: jupyter-lsp>=2.0.0 in c:\\users\\naya\\appdata\\local\\programs\\python\\python310\\lib\\site-packages (from jupyterlab>=3.4.0->-r requirements.txt (line 13)) (2.2.5)\n",
      "Requirement already satisfied: async-lru>=1.0.0 in c:\\users\\naya\\appdata\\local\\programs\\python\\python310\\lib\\site-packages (from jupyterlab>=3.4.0->-r requirements.txt (line 13)) (2.0.4)\n",
      "Requirement already satisfied: notebook-shim>=0.2 in c:\\users\\naya\\appdata\\local\\programs\\python\\python310\\lib\\site-packages (from jupyterlab>=3.4.0->-r requirements.txt (line 13)) (0.2.4)\n",
      "Requirement already satisfied: tornado>=6.2.0 in c:\\users\\naya\\appdata\\local\\programs\\python\\python310\\lib\\site-packages (from jupyterlab>=3.4.0->-r requirements.txt (line 13)) (6.4.2)\n",
      "Requirement already satisfied: jupyterlab-server<3,>=2.27.1 in c:\\users\\naya\\appdata\\local\\programs\\python\\python310\\lib\\site-packages (from jupyterlab>=3.4.0->-r requirements.txt (line 13)) (2.27.3)\n",
      "Requirement already satisfied: ipykernel>=6.5.0 in c:\\users\\naya\\appdata\\local\\programs\\python\\python310\\lib\\site-packages (from jupyterlab>=3.4.0->-r requirements.txt (line 13)) (6.29.5)\n",
      "Requirement already satisfied: httpx>=0.25.0 in c:\\users\\naya\\appdata\\local\\programs\\python\\python310\\lib\\site-packages (from jupyterlab>=3.4.0->-r requirements.txt (line 13)) (0.28.1)\n",
      "Requirement already satisfied: traitlets in c:\\users\\naya\\appdata\\local\\programs\\python\\python310\\lib\\site-packages (from jupyterlab>=3.4.0->-r requirements.txt (line 13)) (5.14.3)\n",
      "Requirement already satisfied: tomli>=1.2.2 in c:\\users\\naya\\appdata\\local\\programs\\python\\python310\\lib\\site-packages (from jupyterlab>=3.4.0->-r requirements.txt (line 13)) (2.2.1)\n",
      "Requirement already satisfied: jupyter-core in c:\\users\\naya\\appdata\\local\\programs\\python\\python310\\lib\\site-packages (from jupyterlab>=3.4.0->-r requirements.txt (line 13)) (5.7.2)\n",
      "Requirement already satisfied: narwhals>=1.15.1 in c:\\users\\naya\\appdata\\local\\programs\\python\\python310\\lib\\site-packages (from plotly>=5.9.0->-r requirements.txt (line 16)) (1.25.2)\n",
      "Requirement already satisfied: importlib-metadata in c:\\users\\naya\\appdata\\roaming\\python\\python310\\site-packages (from dash>=2.6.0->-r requirements.txt (line 17)) (8.6.1)\n",
      "Requirement already satisfied: Flask<3.1,>=1.0.4 in c:\\users\\naya\\appdata\\roaming\\python\\python310\\site-packages (from dash>=2.6.0->-r requirements.txt (line 17)) (3.0.3)\n",
      "Requirement already satisfied: dash-html-components==2.0.0 in c:\\users\\naya\\appdata\\roaming\\python\\python310\\site-packages (from dash>=2.6.0->-r requirements.txt (line 17)) (2.0.0)\n",
      "Requirement already satisfied: dash-table==5.0.0 in c:\\users\\naya\\appdata\\roaming\\python\\python310\\site-packages (from dash>=2.6.0->-r requirements.txt (line 17)) (5.0.0)\n",
      "Requirement already satisfied: Werkzeug<3.1 in c:\\users\\naya\\appdata\\local\\programs\\python\\python310\\lib\\site-packages (from dash>=2.6.0->-r requirements.txt (line 17)) (3.0.6)\n",
      "Requirement already satisfied: dash-core-components==2.0.0 in c:\\users\\naya\\appdata\\roaming\\python\\python310\\site-packages (from dash>=2.6.0->-r requirements.txt (line 17)) (2.0.0)\n",
      "Requirement already satisfied: retrying in c:\\users\\naya\\appdata\\local\\programs\\python\\python310\\lib\\site-packages (from dash>=2.6.0->-r requirements.txt (line 17)) (1.3.4)\n",
      "Requirement already satisfied: nest-asyncio in c:\\users\\naya\\appdata\\local\\programs\\python\\python310\\lib\\site-packages (from dash>=2.6.0->-r requirements.txt (line 17)) (1.6.0)\n",
      "Requirement already satisfied: model-signing in c:\\users\\naya\\appdata\\local\\programs\\python\\python310\\lib\\site-packages (from kagglehub>=0.3.7->-r requirements.txt (line 18)) (0.2.0)\n",
      "Requirement already satisfied: itsdangerous>=2.1.2 in c:\\users\\naya\\appdata\\local\\programs\\python\\python310\\lib\\site-packages (from Flask<3.1,>=1.0.4->dash>=2.6.0->-r requirements.txt (line 17)) (2.2.0)\n",
      "Requirement already satisfied: blinker>=1.6.2 in c:\\users\\naya\\appdata\\local\\programs\\python\\python310\\lib\\site-packages (from Flask<3.1,>=1.0.4->dash>=2.6.0->-r requirements.txt (line 17)) (1.9.0)\n",
      "Requirement already satisfied: colorama in c:\\users\\naya\\appdata\\local\\programs\\python\\python310\\lib\\site-packages (from click->nltk>=3.7->-r requirements.txt (line 11)) (0.4.6)\n",
      "Requirement already satisfied: anyio in c:\\users\\naya\\appdata\\local\\programs\\python\\python310\\lib\\site-packages (from httpx>=0.25.0->jupyterlab>=3.4.0->-r requirements.txt (line 13)) (4.8.0)\n",
      "Requirement already satisfied: idna in c:\\users\\naya\\appdata\\local\\programs\\python\\python310\\lib\\site-packages (from httpx>=0.25.0->jupyterlab>=3.4.0->-r requirements.txt (line 13)) (3.10)\n",
      "Requirement already satisfied: httpcore==1.* in c:\\users\\naya\\appdata\\local\\programs\\python\\python310\\lib\\site-packages (from httpx>=0.25.0->jupyterlab>=3.4.0->-r requirements.txt (line 13)) (1.0.7)\n",
      "Requirement already satisfied: certifi in c:\\users\\naya\\appdata\\local\\programs\\python\\python310\\lib\\site-packages (from httpx>=0.25.0->jupyterlab>=3.4.0->-r requirements.txt (line 13)) (2025.1.31)\n",
      "Requirement already satisfied: h11<0.15,>=0.13 in c:\\users\\naya\\appdata\\local\\programs\\python\\python310\\lib\\site-packages (from httpcore==1.*->httpx>=0.25.0->jupyterlab>=3.4.0->-r requirements.txt (line 13)) (0.14.0)\n",
      "Requirement already satisfied: jupyter-client>=6.1.12 in c:\\users\\naya\\appdata\\local\\programs\\python\\python310\\lib\\site-packages (from ipykernel>=6.5.0->jupyterlab>=3.4.0->-r requirements.txt (line 13)) (8.6.3)\n",
      "Requirement already satisfied: pyzmq>=24 in c:\\users\\naya\\appdata\\local\\programs\\python\\python310\\lib\\site-packages (from ipykernel>=6.5.0->jupyterlab>=3.4.0->-r requirements.txt (line 13)) (26.2.1)\n",
      "Requirement already satisfied: ipython>=7.23.1 in c:\\users\\naya\\appdata\\local\\programs\\python\\python310\\lib\\site-packages (from ipykernel>=6.5.0->jupyterlab>=3.4.0->-r requirements.txt (line 13)) (8.32.0)\n",
      "Requirement already satisfied: matplotlib-inline>=0.1 in c:\\users\\naya\\appdata\\local\\programs\\python\\python310\\lib\\site-packages (from ipykernel>=6.5.0->jupyterlab>=3.4.0->-r requirements.txt (line 13)) (0.1.7)\n",
      "Requirement already satisfied: debugpy>=1.6.5 in c:\\users\\naya\\appdata\\local\\programs\\python\\python310\\lib\\site-packages (from ipykernel>=6.5.0->jupyterlab>=3.4.0->-r requirements.txt (line 13)) (1.8.12)\n",
      "Requirement already satisfied: psutil in c:\\users\\naya\\appdata\\local\\programs\\python\\python310\\lib\\site-packages (from ipykernel>=6.5.0->jupyterlab>=3.4.0->-r requirements.txt (line 13)) (6.1.1)\n",
      "Requirement already satisfied: comm>=0.1.1 in c:\\users\\naya\\appdata\\local\\programs\\python\\python310\\lib\\site-packages (from ipykernel>=6.5.0->jupyterlab>=3.4.0->-r requirements.txt (line 13)) (0.2.2)\n",
      "Requirement already satisfied: pygments>=2.4.0 in c:\\users\\naya\\appdata\\local\\programs\\python\\python310\\lib\\site-packages (from ipython>=7.23.1->ipykernel>=6.5.0->jupyterlab>=3.4.0->-r requirements.txt (line 13)) (2.19.1)\n",
      "Requirement already satisfied: exceptiongroup in c:\\users\\naya\\appdata\\local\\programs\\python\\python310\\lib\\site-packages (from ipython>=7.23.1->ipykernel>=6.5.0->jupyterlab>=3.4.0->-r requirements.txt (line 13)) (1.2.2)\n",
      "Requirement already satisfied: decorator in c:\\users\\naya\\appdata\\local\\programs\\python\\python310\\lib\\site-packages (from ipython>=7.23.1->ipykernel>=6.5.0->jupyterlab>=3.4.0->-r requirements.txt (line 13)) (5.1.1)\n",
      "Requirement already satisfied: stack_data in c:\\users\\naya\\appdata\\local\\programs\\python\\python310\\lib\\site-packages (from ipython>=7.23.1->ipykernel>=6.5.0->jupyterlab>=3.4.0->-r requirements.txt (line 13)) (0.6.3)\n",
      "Requirement already satisfied: prompt_toolkit<3.1.0,>=3.0.41 in c:\\users\\naya\\appdata\\local\\programs\\python\\python310\\lib\\site-packages (from ipython>=7.23.1->ipykernel>=6.5.0->jupyterlab>=3.4.0->-r requirements.txt (line 13)) (3.0.50)\n",
      "Requirement already satisfied: jedi>=0.16 in c:\\users\\naya\\appdata\\local\\programs\\python\\python310\\lib\\site-packages (from ipython>=7.23.1->ipykernel>=6.5.0->jupyterlab>=3.4.0->-r requirements.txt (line 13)) (0.19.2)\n",
      "Requirement already satisfied: parso<0.9.0,>=0.8.4 in c:\\users\\naya\\appdata\\local\\programs\\python\\python310\\lib\\site-packages (from jedi>=0.16->ipython>=7.23.1->ipykernel>=6.5.0->jupyterlab>=3.4.0->-r requirements.txt (line 13)) (0.8.4)\n",
      "Requirement already satisfied: MarkupSafe>=2.0 in c:\\users\\naya\\appdata\\local\\programs\\python\\python310\\lib\\site-packages (from jinja2->torch>=1.12.0->-r requirements.txt (line 7)) (3.0.2)\n",
      "Requirement already satisfied: platformdirs>=2.5 in c:\\users\\naya\\appdata\\local\\programs\\python\\python310\\lib\\site-packages (from jupyter-core->jupyterlab>=3.4.0->-r requirements.txt (line 13)) (4.3.6)\n",
      "Requirement already satisfied: pywin32>=300 in c:\\users\\naya\\appdata\\local\\programs\\python\\python310\\lib\\site-packages (from jupyter-core->jupyterlab>=3.4.0->-r requirements.txt (line 13)) (308)\n",
      "Requirement already satisfied: jupyter-events>=0.11.0 in c:\\users\\naya\\appdata\\local\\programs\\python\\python310\\lib\\site-packages (from jupyter-server<3,>=2.4.0->jupyterlab>=3.4.0->-r requirements.txt (line 13)) (0.12.0)\n",
      "Requirement already satisfied: argon2-cffi>=21.1 in c:\\users\\naya\\appdata\\local\\programs\\python\\python310\\lib\\site-packages (from jupyter-server<3,>=2.4.0->jupyterlab>=3.4.0->-r requirements.txt (line 13)) (23.1.0)\n",
      "Requirement already satisfied: nbformat>=5.3.0 in c:\\users\\naya\\appdata\\local\\programs\\python\\python310\\lib\\site-packages (from jupyter-server<3,>=2.4.0->jupyterlab>=3.4.0->-r requirements.txt (line 13)) (5.10.4)\n",
      "Requirement already satisfied: send2trash>=1.8.2 in c:\\users\\naya\\appdata\\local\\programs\\python\\python310\\lib\\site-packages (from jupyter-server<3,>=2.4.0->jupyterlab>=3.4.0->-r requirements.txt (line 13)) (1.8.3)\n",
      "Requirement already satisfied: overrides>=5.0 in c:\\users\\naya\\appdata\\local\\programs\\python\\python310\\lib\\site-packages (from jupyter-server<3,>=2.4.0->jupyterlab>=3.4.0->-r requirements.txt (line 13)) (7.7.0)\n",
      "Requirement already satisfied: nbconvert>=6.4.4 in c:\\users\\naya\\appdata\\local\\programs\\python\\python310\\lib\\site-packages (from jupyter-server<3,>=2.4.0->jupyterlab>=3.4.0->-r requirements.txt (line 13)) (7.16.6)\n",
      "Requirement already satisfied: pywinpty>=2.0.1 in c:\\users\\naya\\appdata\\local\\programs\\python\\python310\\lib\\site-packages (from jupyter-server<3,>=2.4.0->jupyterlab>=3.4.0->-r requirements.txt (line 13)) (2.0.15)\n",
      "Requirement already satisfied: terminado>=0.8.3 in c:\\users\\naya\\appdata\\local\\programs\\python\\python310\\lib\\site-packages (from jupyter-server<3,>=2.4.0->jupyterlab>=3.4.0->-r requirements.txt (line 13)) (0.18.1)\n",
      "Requirement already satisfied: jupyter-server-terminals>=0.4.4 in c:\\users\\naya\\appdata\\local\\programs\\python\\python310\\lib\\site-packages (from jupyter-server<3,>=2.4.0->jupyterlab>=3.4.0->-r requirements.txt (line 13)) (0.5.3)\n",
      "Requirement already satisfied: websocket-client>=1.7 in c:\\users\\naya\\appdata\\local\\programs\\python\\python310\\lib\\site-packages (from jupyter-server<3,>=2.4.0->jupyterlab>=3.4.0->-r requirements.txt (line 13)) (1.8.0)\n",
      "Requirement already satisfied: prometheus-client>=0.9 in c:\\users\\naya\\appdata\\local\\programs\\python\\python310\\lib\\site-packages (from jupyter-server<3,>=2.4.0->jupyterlab>=3.4.0->-r requirements.txt (line 13)) (0.21.1)\n",
      "Requirement already satisfied: sniffio>=1.1 in c:\\users\\naya\\appdata\\local\\programs\\python\\python310\\lib\\site-packages (from anyio->httpx>=0.25.0->jupyterlab>=3.4.0->-r requirements.txt (line 13)) (1.3.1)\n",
      "Requirement already satisfied: argon2-cffi-bindings in c:\\users\\naya\\appdata\\local\\programs\\python\\python310\\lib\\site-packages (from argon2-cffi>=21.1->jupyter-server<3,>=2.4.0->jupyterlab>=3.4.0->-r requirements.txt (line 13)) (21.2.0)\n",
      "Requirement already satisfied: rfc3986-validator>=0.1.1 in c:\\users\\naya\\appdata\\local\\programs\\python\\python310\\lib\\site-packages (from jupyter-events>=0.11.0->jupyter-server<3,>=2.4.0->jupyterlab>=3.4.0->-r requirements.txt (line 13)) (0.1.1)\n",
      "Requirement already satisfied: python-json-logger>=2.0.4 in c:\\users\\naya\\appdata\\local\\programs\\python\\python310\\lib\\site-packages (from jupyter-events>=0.11.0->jupyter-server<3,>=2.4.0->jupyterlab>=3.4.0->-r requirements.txt (line 13)) (3.2.1)\n",
      "Requirement already satisfied: referencing in c:\\users\\naya\\appdata\\local\\programs\\python\\python310\\lib\\site-packages (from jupyter-events>=0.11.0->jupyter-server<3,>=2.4.0->jupyterlab>=3.4.0->-r requirements.txt (line 13)) (0.36.2)\n",
      "Requirement already satisfied: rfc3339-validator in c:\\users\\naya\\appdata\\local\\programs\\python\\python310\\lib\\site-packages (from jupyter-events>=0.11.0->jupyter-server<3,>=2.4.0->jupyterlab>=3.4.0->-r requirements.txt (line 13)) (0.1.4)\n",
      "Requirement already satisfied: jsonschema[format-nongpl]>=4.18.0 in c:\\users\\naya\\appdata\\local\\programs\\python\\python310\\lib\\site-packages (from jupyter-events>=0.11.0->jupyter-server<3,>=2.4.0->jupyterlab>=3.4.0->-r requirements.txt (line 13)) (4.23.0)\n",
      "Requirement already satisfied: attrs>=22.2.0 in c:\\users\\naya\\appdata\\local\\programs\\python\\python310\\lib\\site-packages (from jsonschema[format-nongpl]>=4.18.0->jupyter-events>=0.11.0->jupyter-server<3,>=2.4.0->jupyterlab>=3.4.0->-r requirements.txt (line 13)) (25.1.0)\n",
      "Requirement already satisfied: rpds-py>=0.7.1 in c:\\users\\naya\\appdata\\local\\programs\\python\\python310\\lib\\site-packages (from jsonschema[format-nongpl]>=4.18.0->jupyter-events>=0.11.0->jupyter-server<3,>=2.4.0->jupyterlab>=3.4.0->-r requirements.txt (line 13)) (0.22.3)\n",
      "Requirement already satisfied: jsonschema-specifications>=2023.03.6 in c:\\users\\naya\\appdata\\local\\programs\\python\\python310\\lib\\site-packages (from jsonschema[format-nongpl]>=4.18.0->jupyter-events>=0.11.0->jupyter-server<3,>=2.4.0->jupyterlab>=3.4.0->-r requirements.txt (line 13)) (2024.10.1)\n",
      "Requirement already satisfied: uri-template in c:\\users\\naya\\appdata\\local\\programs\\python\\python310\\lib\\site-packages (from jsonschema[format-nongpl]>=4.18.0->jupyter-events>=0.11.0->jupyter-server<3,>=2.4.0->jupyterlab>=3.4.0->-r requirements.txt (line 13)) (1.3.0)\n",
      "Requirement already satisfied: fqdn in c:\\users\\naya\\appdata\\local\\programs\\python\\python310\\lib\\site-packages (from jsonschema[format-nongpl]>=4.18.0->jupyter-events>=0.11.0->jupyter-server<3,>=2.4.0->jupyterlab>=3.4.0->-r requirements.txt (line 13)) (1.5.1)\n",
      "Requirement already satisfied: isoduration in c:\\users\\naya\\appdata\\local\\programs\\python\\python310\\lib\\site-packages (from jsonschema[format-nongpl]>=4.18.0->jupyter-events>=0.11.0->jupyter-server<3,>=2.4.0->jupyterlab>=3.4.0->-r requirements.txt (line 13)) (20.11.0)\n",
      "Requirement already satisfied: webcolors>=24.6.0 in c:\\users\\naya\\appdata\\local\\programs\\python\\python310\\lib\\site-packages (from jsonschema[format-nongpl]>=4.18.0->jupyter-events>=0.11.0->jupyter-server<3,>=2.4.0->jupyterlab>=3.4.0->-r requirements.txt (line 13)) (24.11.1)\n",
      "Requirement already satisfied: jsonpointer>1.13 in c:\\users\\naya\\appdata\\local\\programs\\python\\python310\\lib\\site-packages (from jsonschema[format-nongpl]>=4.18.0->jupyter-events>=0.11.0->jupyter-server<3,>=2.4.0->jupyterlab>=3.4.0->-r requirements.txt (line 13)) (3.0.0)\n",
      "Requirement already satisfied: json5>=0.9.0 in c:\\users\\naya\\appdata\\local\\programs\\python\\python310\\lib\\site-packages (from jupyterlab-server<3,>=2.27.1->jupyterlab>=3.4.0->-r requirements.txt (line 13)) (0.10.0)\n",
      "Requirement already satisfied: babel>=2.10 in c:\\users\\naya\\appdata\\local\\programs\\python\\python310\\lib\\site-packages (from jupyterlab-server<3,>=2.27.1->jupyterlab>=3.4.0->-r requirements.txt (line 13)) (2.17.0)\n",
      "Requirement already satisfied: language-data>=1.2 in c:\\users\\naya\\appdata\\local\\programs\\python\\python310\\lib\\site-packages (from langcodes<4.0.0,>=3.2.0->spacy>=3.4.0->-r requirements.txt (line 12)) (1.3.0)\n",
      "Requirement already satisfied: marisa-trie>=1.1.0 in c:\\users\\naya\\appdata\\local\\programs\\python\\python310\\lib\\site-packages (from language-data>=1.2->langcodes<4.0.0,>=3.2.0->spacy>=3.4.0->-r requirements.txt (line 12)) (1.2.1)\n",
      "Requirement already satisfied: beautifulsoup4 in c:\\users\\naya\\appdata\\local\\programs\\python\\python310\\lib\\site-packages (from nbconvert>=6.4.4->jupyter-server<3,>=2.4.0->jupyterlab>=3.4.0->-r requirements.txt (line 13)) (4.13.3)\n",
      "Requirement already satisfied: nbclient>=0.5.0 in c:\\users\\naya\\appdata\\local\\programs\\python\\python310\\lib\\site-packages (from nbconvert>=6.4.4->jupyter-server<3,>=2.4.0->jupyterlab>=3.4.0->-r requirements.txt (line 13)) (0.10.2)\n",
      "Requirement already satisfied: defusedxml in c:\\users\\naya\\appdata\\local\\programs\\python\\python310\\lib\\site-packages (from nbconvert>=6.4.4->jupyter-server<3,>=2.4.0->jupyterlab>=3.4.0->-r requirements.txt (line 13)) (0.7.1)\n",
      "Requirement already satisfied: jupyterlab-pygments in c:\\users\\naya\\appdata\\local\\programs\\python\\python310\\lib\\site-packages (from nbconvert>=6.4.4->jupyter-server<3,>=2.4.0->jupyterlab>=3.4.0->-r requirements.txt (line 13)) (0.3.0)\n",
      "Requirement already satisfied: mistune<4,>=2.0.3 in c:\\users\\naya\\appdata\\local\\programs\\python\\python310\\lib\\site-packages (from nbconvert>=6.4.4->jupyter-server<3,>=2.4.0->jupyterlab>=3.4.0->-r requirements.txt (line 13)) (3.1.1)\n",
      "Requirement already satisfied: bleach[css]!=5.0.0 in c:\\users\\naya\\appdata\\local\\programs\\python\\python310\\lib\\site-packages (from nbconvert>=6.4.4->jupyter-server<3,>=2.4.0->jupyterlab>=3.4.0->-r requirements.txt (line 13)) (6.2.0)\n",
      "Requirement already satisfied: pandocfilters>=1.4.1 in c:\\users\\naya\\appdata\\local\\programs\\python\\python310\\lib\\site-packages (from nbconvert>=6.4.4->jupyter-server<3,>=2.4.0->jupyterlab>=3.4.0->-r requirements.txt (line 13)) (1.5.1)\n",
      "Requirement already satisfied: webencodings in c:\\users\\naya\\appdata\\local\\programs\\python\\python310\\lib\\site-packages (from bleach[css]!=5.0.0->nbconvert>=6.4.4->jupyter-server<3,>=2.4.0->jupyterlab>=3.4.0->-r requirements.txt (line 13)) (0.5.1)\n",
      "Requirement already satisfied: tinycss2<1.5,>=1.1.0 in c:\\users\\naya\\appdata\\local\\programs\\python\\python310\\lib\\site-packages (from bleach[css]!=5.0.0->nbconvert>=6.4.4->jupyter-server<3,>=2.4.0->jupyterlab>=3.4.0->-r requirements.txt (line 13)) (1.4.0)\n",
      "Requirement already satisfied: fastjsonschema>=2.15 in c:\\users\\naya\\appdata\\local\\programs\\python\\python310\\lib\\site-packages (from nbformat>=5.3.0->jupyter-server<3,>=2.4.0->jupyterlab>=3.4.0->-r requirements.txt (line 13)) (2.21.1)\n",
      "Requirement already satisfied: wcwidth in c:\\users\\naya\\appdata\\local\\programs\\python\\python310\\lib\\site-packages (from prompt_toolkit<3.1.0,>=3.0.41->ipython>=7.23.1->ipykernel>=6.5.0->jupyterlab>=3.4.0->-r requirements.txt (line 13)) (0.2.13)\n",
      "Requirement already satisfied: pydantic-core==2.27.2 in c:\\users\\naya\\appdata\\local\\programs\\python\\python310\\lib\\site-packages (from pydantic!=1.8,!=1.8.1,<3.0.0,>=1.7.4->spacy>=3.4.0->-r requirements.txt (line 12)) (2.27.2)\n",
      "Requirement already satisfied: annotated-types>=0.6.0 in c:\\users\\naya\\appdata\\local\\programs\\python\\python310\\lib\\site-packages (from pydantic!=1.8,!=1.8.1,<3.0.0,>=1.7.4->spacy>=3.4.0->-r requirements.txt (line 12)) (0.7.0)\n",
      "Requirement already satisfied: six>=1.5 in c:\\users\\naya\\appdata\\local\\programs\\python\\python310\\lib\\site-packages (from python-dateutil>=2.8.2->pandas>=1.4.0->-r requirements.txt (line 3)) (1.17.0)\n",
      "Requirement already satisfied: urllib3<3,>=1.21.1 in c:\\users\\naya\\appdata\\local\\programs\\python\\python310\\lib\\site-packages (from requests->transformers>=4.48.3->-r requirements.txt (line 10)) (2.3.0)\n",
      "Requirement already satisfied: charset-normalizer<4,>=2 in c:\\users\\naya\\appdata\\local\\programs\\python\\python310\\lib\\site-packages (from requests->transformers>=4.48.3->-r requirements.txt (line 10)) (3.4.1)\n",
      "Requirement already satisfied: blis<1.3.0,>=1.2.0 in c:\\users\\naya\\appdata\\local\\programs\\python\\python310\\lib\\site-packages (from thinc<8.4.0,>=8.3.4->spacy>=3.4.0->-r requirements.txt (line 12)) (1.2.0)\n",
      "Requirement already satisfied: confection<1.0.0,>=0.0.1 in c:\\users\\naya\\appdata\\local\\programs\\python\\python310\\lib\\site-packages (from thinc<8.4.0,>=8.3.4->spacy>=3.4.0->-r requirements.txt (line 12)) (0.1.5)\n",
      "Requirement already satisfied: rich>=10.11.0 in c:\\users\\naya\\appdata\\local\\programs\\python\\python310\\lib\\site-packages (from typer<1.0.0,>=0.3.0->spacy>=3.4.0->-r requirements.txt (line 12)) (13.9.4)\n",
      "Requirement already satisfied: shellingham>=1.3.0 in c:\\users\\naya\\appdata\\local\\programs\\python\\python310\\lib\\site-packages (from typer<1.0.0,>=0.3.0->spacy>=3.4.0->-r requirements.txt (line 12)) (1.5.4)\n",
      "Requirement already satisfied: markdown-it-py>=2.2.0 in c:\\users\\naya\\appdata\\local\\programs\\python\\python310\\lib\\site-packages (from rich>=10.11.0->typer<1.0.0,>=0.3.0->spacy>=3.4.0->-r requirements.txt (line 12)) (3.0.0)\n",
      "Requirement already satisfied: mdurl~=0.1 in c:\\users\\naya\\appdata\\local\\programs\\python\\python310\\lib\\site-packages (from markdown-it-py>=2.2.0->rich>=10.11.0->typer<1.0.0,>=0.3.0->spacy>=3.4.0->-r requirements.txt (line 12)) (0.1.2)\n",
      "Requirement already satisfied: smart-open<8.0.0,>=5.2.1 in c:\\users\\naya\\appdata\\local\\programs\\python\\python310\\lib\\site-packages (from weasel<0.5.0,>=0.1.0->spacy>=3.4.0->-r requirements.txt (line 12)) (7.1.0)\n",
      "Requirement already satisfied: cloudpathlib<1.0.0,>=0.7.0 in c:\\users\\naya\\appdata\\local\\programs\\python\\python310\\lib\\site-packages (from weasel<0.5.0,>=0.1.0->spacy>=3.4.0->-r requirements.txt (line 12)) (0.20.0)\n",
      "Requirement already satisfied: wrapt in c:\\users\\naya\\appdata\\local\\programs\\python\\python310\\lib\\site-packages (from smart-open<8.0.0,>=5.2.1->weasel<0.5.0,>=0.1.0->spacy>=3.4.0->-r requirements.txt (line 12)) (1.17.2)\n",
      "Requirement already satisfied: cffi>=1.0.1 in c:\\users\\naya\\appdata\\local\\programs\\python\\python310\\lib\\site-packages (from argon2-cffi-bindings->argon2-cffi>=21.1->jupyter-server<3,>=2.4.0->jupyterlab>=3.4.0->-r requirements.txt (line 13)) (1.17.1)\n",
      "Requirement already satisfied: pycparser in c:\\users\\naya\\appdata\\local\\programs\\python\\python310\\lib\\site-packages (from cffi>=1.0.1->argon2-cffi-bindings->argon2-cffi>=21.1->jupyter-server<3,>=2.4.0->jupyterlab>=3.4.0->-r requirements.txt (line 13)) (2.22)\n",
      "Requirement already satisfied: soupsieve>1.2 in c:\\users\\naya\\appdata\\local\\programs\\python\\python310\\lib\\site-packages (from beautifulsoup4->nbconvert>=6.4.4->jupyter-server<3,>=2.4.0->jupyterlab>=3.4.0->-r requirements.txt (line 13)) (2.6)\n",
      "Requirement already satisfied: zipp>=3.20 in c:\\users\\naya\\appdata\\local\\programs\\python\\python310\\lib\\site-packages (from importlib-metadata->dash>=2.6.0->-r requirements.txt (line 17)) (3.21.0)\n",
      "Requirement already satisfied: arrow>=0.15.0 in c:\\users\\naya\\appdata\\local\\programs\\python\\python310\\lib\\site-packages (from isoduration->jsonschema[format-nongpl]>=4.18.0->jupyter-events>=0.11.0->jupyter-server<3,>=2.4.0->jupyterlab>=3.4.0->-r requirements.txt (line 13)) (1.3.0)\n",
      "Requirement already satisfied: types-python-dateutil>=2.8.10 in c:\\users\\naya\\appdata\\local\\programs\\python\\python310\\lib\\site-packages (from arrow>=0.15.0->isoduration->jsonschema[format-nongpl]>=4.18.0->jupyter-events>=0.11.0->jupyter-server<3,>=2.4.0->jupyterlab>=3.4.0->-r requirements.txt (line 13)) (2.9.0.20241206)\n",
      "Requirement already satisfied: sigstore in c:\\users\\naya\\appdata\\local\\programs\\python\\python310\\lib\\site-packages (from model-signing->kagglehub>=0.3.7->-r requirements.txt (line 18)) (3.6.1)\n",
      "Requirement already satisfied: cryptography in c:\\users\\naya\\appdata\\local\\programs\\python\\python310\\lib\\site-packages (from model-signing->kagglehub>=0.3.7->-r requirements.txt (line 18)) (44.0.0)\n",
      "Requirement already satisfied: in-toto-attestation in c:\\users\\naya\\appdata\\local\\programs\\python\\python310\\lib\\site-packages (from model-signing->kagglehub>=0.3.7->-r requirements.txt (line 18)) (0.9.3)\n",
      "Requirement already satisfied: protobuf in c:\\users\\naya\\appdata\\local\\programs\\python\\python310\\lib\\site-packages (from in-toto-attestation->model-signing->kagglehub>=0.3.7->-r requirements.txt (line 18)) (5.29.3)\n",
      "Requirement already satisfied: id>=1.1.0 in c:\\users\\naya\\appdata\\local\\programs\\python\\python310\\lib\\site-packages (from sigstore->model-signing->kagglehub>=0.3.7->-r requirements.txt (line 18)) (1.5.0)\n",
      "Requirement already satisfied: pyjwt>=2.1 in c:\\users\\naya\\appdata\\local\\programs\\python\\python310\\lib\\site-packages (from sigstore->model-signing->kagglehub>=0.3.7->-r requirements.txt (line 18)) (2.10.1)\n",
      "Requirement already satisfied: tuf~=5.0 in c:\\users\\naya\\appdata\\local\\programs\\python\\python310\\lib\\site-packages (from sigstore->model-signing->kagglehub>=0.3.7->-r requirements.txt (line 18)) (5.1.0)\n",
      "Requirement already satisfied: rfc8785~=0.1.2 in c:\\users\\naya\\appdata\\local\\programs\\python\\python310\\lib\\site-packages (from sigstore->model-signing->kagglehub>=0.3.7->-r requirements.txt (line 18)) (0.1.4)\n",
      "Requirement already satisfied: sigstore-protobuf-specs==0.3.2 in c:\\users\\naya\\appdata\\local\\programs\\python\\python310\\lib\\site-packages (from sigstore->model-signing->kagglehub>=0.3.7->-r requirements.txt (line 18)) (0.3.2)\n",
      "Requirement already satisfied: pyOpenSSL>=23.0.0 in c:\\users\\naya\\appdata\\local\\programs\\python\\python310\\lib\\site-packages (from sigstore->model-signing->kagglehub>=0.3.7->-r requirements.txt (line 18)) (25.0.0)\n",
      "Requirement already satisfied: importlib_resources~=5.7 in c:\\users\\naya\\appdata\\local\\programs\\python\\python310\\lib\\site-packages (from sigstore->model-signing->kagglehub>=0.3.7->-r requirements.txt (line 18)) (5.13.0)\n",
      "Requirement already satisfied: pyasn1~=0.6 in c:\\users\\naya\\appdata\\local\\programs\\python\\python310\\lib\\site-packages (from sigstore->model-signing->kagglehub>=0.3.7->-r requirements.txt (line 18)) (0.6.1)\n",
      "Requirement already satisfied: rfc3161-client~=0.1.2 in c:\\users\\naya\\appdata\\local\\programs\\python\\python310\\lib\\site-packages (from sigstore->model-signing->kagglehub>=0.3.7->-r requirements.txt (line 18)) (0.1.2)\n",
      "Requirement already satisfied: sigstore-rekor-types==0.0.18 in c:\\users\\naya\\appdata\\local\\programs\\python\\python310\\lib\\site-packages (from sigstore->model-signing->kagglehub>=0.3.7->-r requirements.txt (line 18)) (0.0.18)\n",
      "Requirement already satisfied: betterproto==2.0.0b6 in c:\\users\\naya\\appdata\\local\\programs\\python\\python310\\lib\\site-packages (from sigstore-protobuf-specs==0.3.2->sigstore->model-signing->kagglehub>=0.3.7->-r requirements.txt (line 18)) (2.0.0b6)\n",
      "Requirement already satisfied: grpclib<0.5.0,>=0.4.1 in c:\\users\\naya\\appdata\\local\\programs\\python\\python310\\lib\\site-packages (from betterproto==2.0.0b6->sigstore-protobuf-specs==0.3.2->sigstore->model-signing->kagglehub>=0.3.7->-r requirements.txt (line 18)) (0.4.7)\n",
      "Requirement already satisfied: multidict in c:\\users\\naya\\appdata\\local\\programs\\python\\python310\\lib\\site-packages (from grpclib<0.5.0,>=0.4.1->betterproto==2.0.0b6->sigstore-protobuf-specs==0.3.2->sigstore->model-signing->kagglehub>=0.3.7->-r requirements.txt (line 18)) (6.1.0)\n",
      "Requirement already satisfied: h2<5,>=3.1.0 in c:\\users\\naya\\appdata\\local\\programs\\python\\python310\\lib\\site-packages (from grpclib<0.5.0,>=0.4.1->betterproto==2.0.0b6->sigstore-protobuf-specs==0.3.2->sigstore->model-signing->kagglehub>=0.3.7->-r requirements.txt (line 18)) (4.2.0)\n",
      "Requirement already satisfied: hpack<5,>=4.1 in c:\\users\\naya\\appdata\\local\\programs\\python\\python310\\lib\\site-packages (from h2<5,>=3.1.0->grpclib<0.5.0,>=0.4.1->betterproto==2.0.0b6->sigstore-protobuf-specs==0.3.2->sigstore->model-signing->kagglehub>=0.3.7->-r requirements.txt (line 18)) (4.1.0)\n",
      "Requirement already satisfied: hyperframe<7,>=6.1 in c:\\users\\naya\\appdata\\local\\programs\\python\\python310\\lib\\site-packages (from h2<5,>=3.1.0->grpclib<0.5.0,>=0.4.1->betterproto==2.0.0b6->sigstore-protobuf-specs==0.3.2->sigstore->model-signing->kagglehub>=0.3.7->-r requirements.txt (line 18)) (6.1.0)\n",
      "Requirement already satisfied: email-validator>=2.0.0 in c:\\users\\naya\\appdata\\local\\programs\\python\\python310\\lib\\site-packages (from pydantic!=1.8,!=1.8.1,<3.0.0,>=1.7.4->spacy>=3.4.0->-r requirements.txt (line 12)) (2.2.0)\n",
      "Requirement already satisfied: dnspython>=2.0.0 in c:\\users\\naya\\appdata\\local\\programs\\python\\python310\\lib\\site-packages (from email-validator>=2.0.0->pydantic!=1.8,!=1.8.1,<3.0.0,>=1.7.4->spacy>=3.4.0->-r requirements.txt (line 12)) (2.7.0)\n",
      "Requirement already satisfied: securesystemslib~=1.0 in c:\\users\\naya\\appdata\\local\\programs\\python\\python310\\lib\\site-packages (from tuf~=5.0->sigstore->model-signing->kagglehub>=0.3.7->-r requirements.txt (line 18)) (1.2.0)\n",
      "Requirement already satisfied: pure-eval in c:\\users\\naya\\appdata\\local\\programs\\python\\python310\\lib\\site-packages (from stack_data->ipython>=7.23.1->ipykernel>=6.5.0->jupyterlab>=3.4.0->-r requirements.txt (line 13)) (0.2.3)\n",
      "Requirement already satisfied: executing>=1.2.0 in c:\\users\\naya\\appdata\\local\\programs\\python\\python310\\lib\\site-packages (from stack_data->ipython>=7.23.1->ipykernel>=6.5.0->jupyterlab>=3.4.0->-r requirements.txt (line 13)) (2.2.0)\n",
      "Requirement already satisfied: asttokens>=2.1.0 in c:\\users\\naya\\appdata\\local\\programs\\python\\python310\\lib\\site-packages (from stack_data->ipython>=7.23.1->ipykernel>=6.5.0->jupyterlab>=3.4.0->-r requirements.txt (line 13)) (3.0.0)\n",
      "Requirement already satisfied: kagglehub in c:\\users\\naya\\appdata\\local\\programs\\python\\python310\\lib\\site-packages (0.3.7)\n",
      "Requirement already satisfied: tqdm in c:\\users\\naya\\appdata\\local\\programs\\python\\python310\\lib\\site-packages (from kagglehub) (4.67.1)\n",
      "Requirement already satisfied: packaging in c:\\users\\naya\\appdata\\local\\programs\\python\\python310\\lib\\site-packages (from kagglehub) (24.2)\n",
      "Requirement already satisfied: model-signing in c:\\users\\naya\\appdata\\local\\programs\\python\\python310\\lib\\site-packages (from kagglehub) (0.2.0)\n",
      "Requirement already satisfied: requests in c:\\users\\naya\\appdata\\local\\programs\\python\\python310\\lib\\site-packages (from kagglehub) (2.32.3)\n",
      "Requirement already satisfied: in-toto-attestation in c:\\users\\naya\\appdata\\local\\programs\\python\\python310\\lib\\site-packages (from model-signing->kagglehub) (0.9.3)\n",
      "Requirement already satisfied: cryptography in c:\\users\\naya\\appdata\\local\\programs\\python\\python310\\lib\\site-packages (from model-signing->kagglehub) (44.0.0)\n",
      "Requirement already satisfied: typing-extensions in c:\\users\\naya\\appdata\\local\\programs\\python\\python310\\lib\\site-packages (from model-signing->kagglehub) (4.12.2)\n",
      "Requirement already satisfied: sigstore in c:\\users\\naya\\appdata\\local\\programs\\python\\python310\\lib\\site-packages (from model-signing->kagglehub) (3.6.1)\n",
      "Requirement already satisfied: cffi>=1.12 in c:\\users\\naya\\appdata\\local\\programs\\python\\python310\\lib\\site-packages (from cryptography->model-signing->kagglehub) (1.17.1)\n",
      "Requirement already satisfied: pycparser in c:\\users\\naya\\appdata\\local\\programs\\python\\python310\\lib\\site-packages (from cffi>=1.12->cryptography->model-signing->kagglehub) (2.22)\n",
      "Requirement already satisfied: protobuf in c:\\users\\naya\\appdata\\local\\programs\\python\\python310\\lib\\site-packages (from in-toto-attestation->model-signing->kagglehub) (5.29.3)\n",
      "Requirement already satisfied: idna<4,>=2.5 in c:\\users\\naya\\appdata\\local\\programs\\python\\python310\\lib\\site-packages (from requests->kagglehub) (3.10)\n",
      "Requirement already satisfied: charset-normalizer<4,>=2 in c:\\users\\naya\\appdata\\local\\programs\\python\\python310\\lib\\site-packages (from requests->kagglehub) (3.4.1)\n",
      "Requirement already satisfied: urllib3<3,>=1.21.1 in c:\\users\\naya\\appdata\\local\\programs\\python\\python310\\lib\\site-packages (from requests->kagglehub) (2.3.0)\n",
      "Requirement already satisfied: certifi>=2017.4.17 in c:\\users\\naya\\appdata\\local\\programs\\python\\python310\\lib\\site-packages (from requests->kagglehub) (2025.1.31)\n",
      "Requirement already satisfied: rich~=13.0 in c:\\users\\naya\\appdata\\local\\programs\\python\\python310\\lib\\site-packages (from sigstore->model-signing->kagglehub) (13.9.4)\n",
      "Requirement already satisfied: pydantic<3,>=2 in c:\\users\\naya\\appdata\\local\\programs\\python\\python310\\lib\\site-packages (from sigstore->model-signing->kagglehub) (2.10.6)\n",
      "Requirement already satisfied: platformdirs~=4.2 in c:\\users\\naya\\appdata\\local\\programs\\python\\python310\\lib\\site-packages (from sigstore->model-signing->kagglehub) (4.3.6)\n",
      "Requirement already satisfied: id>=1.1.0 in c:\\users\\naya\\appdata\\local\\programs\\python\\python310\\lib\\site-packages (from sigstore->model-signing->kagglehub) (1.5.0)\n",
      "Requirement already satisfied: pyasn1~=0.6 in c:\\users\\naya\\appdata\\local\\programs\\python\\python310\\lib\\site-packages (from sigstore->model-signing->kagglehub) (0.6.1)\n",
      "Requirement already satisfied: rfc8785~=0.1.2 in c:\\users\\naya\\appdata\\local\\programs\\python\\python310\\lib\\site-packages (from sigstore->model-signing->kagglehub) (0.1.4)\n",
      "Requirement already satisfied: pyjwt>=2.1 in c:\\users\\naya\\appdata\\local\\programs\\python\\python310\\lib\\site-packages (from sigstore->model-signing->kagglehub) (2.10.1)\n",
      "Requirement already satisfied: importlib_resources~=5.7 in c:\\users\\naya\\appdata\\local\\programs\\python\\python310\\lib\\site-packages (from sigstore->model-signing->kagglehub) (5.13.0)\n",
      "Requirement already satisfied: sigstore-rekor-types==0.0.18 in c:\\users\\naya\\appdata\\local\\programs\\python\\python310\\lib\\site-packages (from sigstore->model-signing->kagglehub) (0.0.18)\n",
      "Requirement already satisfied: sigstore-protobuf-specs==0.3.2 in c:\\users\\naya\\appdata\\local\\programs\\python\\python310\\lib\\site-packages (from sigstore->model-signing->kagglehub) (0.3.2)\n",
      "Requirement already satisfied: tuf~=5.0 in c:\\users\\naya\\appdata\\local\\programs\\python\\python310\\lib\\site-packages (from sigstore->model-signing->kagglehub) (5.1.0)\n",
      "Requirement already satisfied: pyOpenSSL>=23.0.0 in c:\\users\\naya\\appdata\\local\\programs\\python\\python310\\lib\\site-packages (from sigstore->model-signing->kagglehub) (25.0.0)\n",
      "Requirement already satisfied: rfc3161-client~=0.1.2 in c:\\users\\naya\\appdata\\local\\programs\\python\\python310\\lib\\site-packages (from sigstore->model-signing->kagglehub) (0.1.2)\n",
      "Requirement already satisfied: betterproto==2.0.0b6 in c:\\users\\naya\\appdata\\local\\programs\\python\\python310\\lib\\site-packages (from sigstore-protobuf-specs==0.3.2->sigstore->model-signing->kagglehub) (2.0.0b6)\n",
      "Requirement already satisfied: python-dateutil<3.0,>=2.8 in c:\\users\\naya\\appdata\\local\\programs\\python\\python310\\lib\\site-packages (from betterproto==2.0.0b6->sigstore-protobuf-specs==0.3.2->sigstore->model-signing->kagglehub) (2.9.0.post0)\n",
      "Requirement already satisfied: grpclib<0.5.0,>=0.4.1 in c:\\users\\naya\\appdata\\local\\programs\\python\\python310\\lib\\site-packages (from betterproto==2.0.0b6->sigstore-protobuf-specs==0.3.2->sigstore->model-signing->kagglehub) (0.4.7)\n",
      "Requirement already satisfied: multidict in c:\\users\\naya\\appdata\\local\\programs\\python\\python310\\lib\\site-packages (from grpclib<0.5.0,>=0.4.1->betterproto==2.0.0b6->sigstore-protobuf-specs==0.3.2->sigstore->model-signing->kagglehub) (6.1.0)\n",
      "Requirement already satisfied: h2<5,>=3.1.0 in c:\\users\\naya\\appdata\\local\\programs\\python\\python310\\lib\\site-packages (from grpclib<0.5.0,>=0.4.1->betterproto==2.0.0b6->sigstore-protobuf-specs==0.3.2->sigstore->model-signing->kagglehub) (4.2.0)\n",
      "Requirement already satisfied: hpack<5,>=4.1 in c:\\users\\naya\\appdata\\local\\programs\\python\\python310\\lib\\site-packages (from h2<5,>=3.1.0->grpclib<0.5.0,>=0.4.1->betterproto==2.0.0b6->sigstore-protobuf-specs==0.3.2->sigstore->model-signing->kagglehub) (4.1.0)\n",
      "Requirement already satisfied: hyperframe<7,>=6.1 in c:\\users\\naya\\appdata\\local\\programs\\python\\python310\\lib\\site-packages (from h2<5,>=3.1.0->grpclib<0.5.0,>=0.4.1->betterproto==2.0.0b6->sigstore-protobuf-specs==0.3.2->sigstore->model-signing->kagglehub) (6.1.0)\n",
      "Requirement already satisfied: annotated-types>=0.6.0 in c:\\users\\naya\\appdata\\local\\programs\\python\\python310\\lib\\site-packages (from pydantic<3,>=2->sigstore->model-signing->kagglehub) (0.7.0)\n",
      "Requirement already satisfied: pydantic-core==2.27.2 in c:\\users\\naya\\appdata\\local\\programs\\python\\python310\\lib\\site-packages (from pydantic<3,>=2->sigstore->model-signing->kagglehub) (2.27.2)\n",
      "Requirement already satisfied: email-validator>=2.0.0 in c:\\users\\naya\\appdata\\local\\programs\\python\\python310\\lib\\site-packages (from pydantic<3,>=2->sigstore->model-signing->kagglehub) (2.2.0)\n",
      "Requirement already satisfied: dnspython>=2.0.0 in c:\\users\\naya\\appdata\\local\\programs\\python\\python310\\lib\\site-packages (from email-validator>=2.0.0->pydantic<3,>=2->sigstore->model-signing->kagglehub) (2.7.0)\n",
      "Requirement already satisfied: six>=1.5 in c:\\users\\naya\\appdata\\local\\programs\\python\\python310\\lib\\site-packages (from python-dateutil<3.0,>=2.8->betterproto==2.0.0b6->sigstore-protobuf-specs==0.3.2->sigstore->model-signing->kagglehub) (1.17.0)\n",
      "Requirement already satisfied: pygments<3.0.0,>=2.13.0 in c:\\users\\naya\\appdata\\local\\programs\\python\\python310\\lib\\site-packages (from rich~=13.0->sigstore->model-signing->kagglehub) (2.19.1)\n",
      "Requirement already satisfied: markdown-it-py>=2.2.0 in c:\\users\\naya\\appdata\\local\\programs\\python\\python310\\lib\\site-packages (from rich~=13.0->sigstore->model-signing->kagglehub) (3.0.0)\n",
      "Requirement already satisfied: mdurl~=0.1 in c:\\users\\naya\\appdata\\local\\programs\\python\\python310\\lib\\site-packages (from markdown-it-py>=2.2.0->rich~=13.0->sigstore->model-signing->kagglehub) (0.1.2)\n",
      "Requirement already satisfied: securesystemslib~=1.0 in c:\\users\\naya\\appdata\\local\\programs\\python\\python310\\lib\\site-packages (from tuf~=5.0->sigstore->model-signing->kagglehub) (1.2.0)\n",
      "Requirement already satisfied: colorama in c:\\users\\naya\\appdata\\local\\programs\\python\\python310\\lib\\site-packages (from tqdm->kagglehub) (0.4.6)\n"
     ]
    }
   ],
   "source": [
    "%run template.ipynb"
   ]
  },
  {
   "cell_type": "code",
   "execution_count": 15,
   "id": "e18cb313-d203-4614-91fa-1b0fb9f41911",
   "metadata": {},
   "outputs": [
    {
     "name": "stdout",
     "output_type": "stream",
     "text": [
      "Downloading from https://www.kaggle.com/api/v1/datasets/download/abdallahalidev/plantvillage-dataset?dataset_version_number=3...\n"
     ]
    },
    {
     "name": "stderr",
     "output_type": "stream",
     "text": [
      "100%|█████████████████████████████████████████████████████████████████████████████| 2.04G/2.04G [04:05<00:00, 8.91MB/s]"
     ]
    },
    {
     "name": "stdout",
     "output_type": "stream",
     "text": [
      "Extracting files...\n"
     ]
    },
    {
     "name": "stderr",
     "output_type": "stream",
     "text": [
      "\n"
     ]
    },
    {
     "name": "stdout",
     "output_type": "stream",
     "text": [
      "Path to dataset files: C:\\Users\\Naya\\.cache\\kagglehub\\datasets\\abdallahalidev\\plantvillage-dataset\\versions\\3\n"
     ]
    }
   ],
   "source": [
    "#import kagglehub\n",
    "\n",
    "# Download latest version\n",
    "path = kagglehub.dataset_download(\"abdallahalidev/plantvillage-dataset\")\n",
    "\n",
    "print(\"Path to dataset files:\", path)"
   ]
  },
  {
   "cell_type": "code",
   "execution_count": 16,
   "id": "e512ccc1-42f4-47c3-a105-c92425a88dc9",
   "metadata": {
    "collapsed": true,
    "jupyter": {
     "outputs_hidden": true
    }
   },
   "outputs": [
    {
     "name": "stderr",
     "output_type": "stream",
     "text": [
      "C:\\Users\\Naya\\AppData\\Local\\Programs\\Python\\Python310\\lib\\site-packages\\huggingface_hub\\file_download.py:140: UserWarning: `huggingface_hub` cache-system uses symlinks by default to efficiently store duplicated files but your machine does not support them in C:\\Users\\Naya\\.cache\\huggingface\\hub\\models--linkanjarad--mobilenet_v2_1.0_224-plant-disease-identification. Caching files will still work but in a degraded version that might require more space on your disk. This warning can be disabled by setting the `HF_HUB_DISABLE_SYMLINKS_WARNING` environment variable. For more details, see https://huggingface.co/docs/huggingface_hub/how-to-cache#limitations.\n",
      "To support symlinks on Windows, you either need to activate Developer Mode or to run Python as an administrator. In order to activate developer mode, see this article: https://docs.microsoft.com/en-us/windows/apps/get-started/enable-your-device-for-development\n",
      "  warnings.warn(message)\n",
      "Using a slow image processor as `use_fast` is unset and a slow processor was saved with this model. `use_fast=True` will be the default behavior in v4.48, even if the model was saved with a slow processor. This will result in minor differences in outputs. You'll still be able to use a slow processor with `use_fast=False`.\n",
      "C:\\Users\\Naya\\AppData\\Roaming\\Python\\Python310\\site-packages\\transformers\\models\\mobilenet_v2\\feature_extraction_mobilenet_v2.py:28: FutureWarning: The class MobileNetV2FeatureExtractor is deprecated and will be removed in version 5 of Transformers. Please use MobileNetV2ImageProcessor instead.\n",
      "  warnings.warn(\n",
      "Device set to use cpu\n"
     ]
    }
   ],
   "source": [
    "# Use a pipeline as a high-level helper\n",
    "from transformers import pipeline\n",
    "\n",
    "pipe = pipeline(\"image-classification\", model=\"linkanjarad/mobilenet_v2_1.0_224-plant-disease-identification\")"
   ]
  },
  {
   "cell_type": "code",
   "execution_count": 20,
   "id": "28665904-66e1-41e0-a6ee-dac9965dbac6",
   "metadata": {},
   "outputs": [
    {
     "data": {
      "text/plain": [
       "[[{'label': 'Bell Pepper with Bacterial Spot', 'score': 0.9856811761856079},\n",
       "  {'label': 'Apple with Black Rot', 'score': 0.896662175655365},\n",
       "  {'label': 'Grape with Black Rot', 'score': 0.8703104257583618},\n",
       "  {'label': 'Peach with Bacterial Spot', 'score': 0.7981919646263123},\n",
       "  {'label': 'Tomato with Early Blight', 'score': 0.7414047718048096}]]"
      ]
     },
     "execution_count": 20,
     "metadata": {},
     "output_type": "execute_result"
    }
   ],
   "source": [
    "pipe(inputs = [\"./2.jpg\"])"
   ]
  },
  {
   "cell_type": "code",
   "execution_count": 22,
   "id": "af7d038d-2988-49b6-9bbd-dc20b446e13c",
   "metadata": {
    "collapsed": true,
    "jupyter": {
     "outputs_hidden": true
    },
    "scrolled": true
   },
   "outputs": [
    {
     "name": "stdout",
     "output_type": "stream",
     "text": [
      "Collecting tf_keras\n",
      "  Downloading tf_keras-2.18.0-py3-none-any.whl (1.7 MB)\n",
      "Requirement already satisfied: tensorflow<2.19,>=2.18 in c:\\users\\naya\\appdata\\local\\programs\\python\\python310\\lib\\site-packages (from tf_keras) (2.18.0)\n",
      "Requirement already satisfied: tensorflow-intel==2.18.0 in c:\\users\\naya\\appdata\\local\\programs\\python\\python310\\lib\\site-packages (from tensorflow<2.19,>=2.18->tf_keras) (2.18.0)\n",
      "Requirement already satisfied: wrapt>=1.11.0 in c:\\users\\naya\\appdata\\local\\programs\\python\\python310\\lib\\site-packages (from tensorflow-intel==2.18.0->tensorflow<2.19,>=2.18->tf_keras) (1.17.2)\n",
      "Requirement already satisfied: typing-extensions>=3.6.6 in c:\\users\\naya\\appdata\\local\\programs\\python\\python310\\lib\\site-packages (from tensorflow-intel==2.18.0->tensorflow<2.19,>=2.18->tf_keras) (4.12.2)\n",
      "Requirement already satisfied: absl-py>=1.0.0 in c:\\users\\naya\\appdata\\local\\programs\\python\\python310\\lib\\site-packages (from tensorflow-intel==2.18.0->tensorflow<2.19,>=2.18->tf_keras) (2.1.0)\n",
      "Requirement already satisfied: requests<3,>=2.21.0 in c:\\users\\naya\\appdata\\local\\programs\\python\\python310\\lib\\site-packages (from tensorflow-intel==2.18.0->tensorflow<2.19,>=2.18->tf_keras) (2.32.3)\n",
      "Requirement already satisfied: libclang>=13.0.0 in c:\\users\\naya\\appdata\\local\\programs\\python\\python310\\lib\\site-packages (from tensorflow-intel==2.18.0->tensorflow<2.19,>=2.18->tf_keras) (18.1.1)\n",
      "Requirement already satisfied: google-pasta>=0.1.1 in c:\\users\\naya\\appdata\\local\\programs\\python\\python310\\lib\\site-packages (from tensorflow-intel==2.18.0->tensorflow<2.19,>=2.18->tf_keras) (0.2.0)\n",
      "Requirement already satisfied: astunparse>=1.6.0 in c:\\users\\naya\\appdata\\local\\programs\\python\\python310\\lib\\site-packages (from tensorflow-intel==2.18.0->tensorflow<2.19,>=2.18->tf_keras) (1.6.3)\n",
      "Requirement already satisfied: tensorboard<2.19,>=2.18 in c:\\users\\naya\\appdata\\local\\programs\\python\\python310\\lib\\site-packages (from tensorflow-intel==2.18.0->tensorflow<2.19,>=2.18->tf_keras) (2.18.0)\n",
      "Requirement already satisfied: tensorflow-io-gcs-filesystem>=0.23.1 in c:\\users\\naya\\appdata\\local\\programs\\python\\python310\\lib\\site-packages (from tensorflow-intel==2.18.0->tensorflow<2.19,>=2.18->tf_keras) (0.31.0)\n",
      "Requirement already satisfied: h5py>=3.11.0 in c:\\users\\naya\\appdata\\local\\programs\\python\\python310\\lib\\site-packages (from tensorflow-intel==2.18.0->tensorflow<2.19,>=2.18->tf_keras) (3.12.1)\n",
      "Requirement already satisfied: flatbuffers>=24.3.25 in c:\\users\\naya\\appdata\\local\\programs\\python\\python310\\lib\\site-packages (from tensorflow-intel==2.18.0->tensorflow<2.19,>=2.18->tf_keras) (25.1.24)\n",
      "Requirement already satisfied: ml-dtypes<0.5.0,>=0.4.0 in c:\\users\\naya\\appdata\\local\\programs\\python\\python310\\lib\\site-packages (from tensorflow-intel==2.18.0->tensorflow<2.19,>=2.18->tf_keras) (0.4.1)\n",
      "Requirement already satisfied: grpcio<2.0,>=1.24.3 in c:\\users\\naya\\appdata\\local\\programs\\python\\python310\\lib\\site-packages (from tensorflow-intel==2.18.0->tensorflow<2.19,>=2.18->tf_keras) (1.70.0)\n",
      "Requirement already satisfied: keras>=3.5.0 in c:\\users\\naya\\appdata\\local\\programs\\python\\python310\\lib\\site-packages (from tensorflow-intel==2.18.0->tensorflow<2.19,>=2.18->tf_keras) (3.8.0)\n",
      "Requirement already satisfied: protobuf!=4.21.0,!=4.21.1,!=4.21.2,!=4.21.3,!=4.21.4,!=4.21.5,<6.0.0dev,>=3.20.3 in c:\\users\\naya\\appdata\\local\\programs\\python\\python310\\lib\\site-packages (from tensorflow-intel==2.18.0->tensorflow<2.19,>=2.18->tf_keras) (5.29.3)\n",
      "Requirement already satisfied: termcolor>=1.1.0 in c:\\users\\naya\\appdata\\local\\programs\\python\\python310\\lib\\site-packages (from tensorflow-intel==2.18.0->tensorflow<2.19,>=2.18->tf_keras) (2.5.0)\n",
      "Requirement already satisfied: setuptools in c:\\users\\naya\\appdata\\local\\programs\\python\\python310\\lib\\site-packages (from tensorflow-intel==2.18.0->tensorflow<2.19,>=2.18->tf_keras) (57.4.0)\n",
      "Requirement already satisfied: opt-einsum>=2.3.2 in c:\\users\\naya\\appdata\\local\\programs\\python\\python310\\lib\\site-packages (from tensorflow-intel==2.18.0->tensorflow<2.19,>=2.18->tf_keras) (3.4.0)\n",
      "Requirement already satisfied: packaging in c:\\users\\naya\\appdata\\local\\programs\\python\\python310\\lib\\site-packages (from tensorflow-intel==2.18.0->tensorflow<2.19,>=2.18->tf_keras) (24.2)\n",
      "Requirement already satisfied: six>=1.12.0 in c:\\users\\naya\\appdata\\local\\programs\\python\\python310\\lib\\site-packages (from tensorflow-intel==2.18.0->tensorflow<2.19,>=2.18->tf_keras) (1.17.0)\n",
      "Requirement already satisfied: numpy<2.1.0,>=1.26.0 in c:\\users\\naya\\appdata\\local\\programs\\python\\python310\\lib\\site-packages (from tensorflow-intel==2.18.0->tensorflow<2.19,>=2.18->tf_keras) (2.0.2)\n",
      "Requirement already satisfied: gast!=0.5.0,!=0.5.1,!=0.5.2,>=0.2.1 in c:\\users\\naya\\appdata\\local\\programs\\python\\python310\\lib\\site-packages (from tensorflow-intel==2.18.0->tensorflow<2.19,>=2.18->tf_keras) (0.6.0)\n",
      "Requirement already satisfied: wheel<1.0,>=0.23.0 in c:\\users\\naya\\appdata\\local\\programs\\python\\python310\\lib\\site-packages (from astunparse>=1.6.0->tensorflow-intel==2.18.0->tensorflow<2.19,>=2.18->tf_keras) (0.45.1)\n",
      "Requirement already satisfied: optree in c:\\users\\naya\\appdata\\local\\programs\\python\\python310\\lib\\site-packages (from keras>=3.5.0->tensorflow-intel==2.18.0->tensorflow<2.19,>=2.18->tf_keras) (0.14.0)\n",
      "Requirement already satisfied: rich in c:\\users\\naya\\appdata\\local\\programs\\python\\python310\\lib\\site-packages (from keras>=3.5.0->tensorflow-intel==2.18.0->tensorflow<2.19,>=2.18->tf_keras) (13.9.4)\n",
      "Requirement already satisfied: namex in c:\\users\\naya\\appdata\\local\\programs\\python\\python310\\lib\\site-packages (from keras>=3.5.0->tensorflow-intel==2.18.0->tensorflow<2.19,>=2.18->tf_keras) (0.0.8)\n",
      "Requirement already satisfied: certifi>=2017.4.17 in c:\\users\\naya\\appdata\\local\\programs\\python\\python310\\lib\\site-packages (from requests<3,>=2.21.0->tensorflow-intel==2.18.0->tensorflow<2.19,>=2.18->tf_keras) (2025.1.31)\n",
      "Requirement already satisfied: urllib3<3,>=1.21.1 in c:\\users\\naya\\appdata\\local\\programs\\python\\python310\\lib\\site-packages (from requests<3,>=2.21.0->tensorflow-intel==2.18.0->tensorflow<2.19,>=2.18->tf_keras) (2.3.0)\n",
      "Requirement already satisfied: idna<4,>=2.5 in c:\\users\\naya\\appdata\\local\\programs\\python\\python310\\lib\\site-packages (from requests<3,>=2.21.0->tensorflow-intel==2.18.0->tensorflow<2.19,>=2.18->tf_keras) (3.10)\n",
      "Requirement already satisfied: charset-normalizer<4,>=2 in c:\\users\\naya\\appdata\\local\\programs\\python\\python310\\lib\\site-packages (from requests<3,>=2.21.0->tensorflow-intel==2.18.0->tensorflow<2.19,>=2.18->tf_keras) (3.4.1)\n",
      "Requirement already satisfied: tensorboard-data-server<0.8.0,>=0.7.0 in c:\\users\\naya\\appdata\\local\\programs\\python\\python310\\lib\\site-packages (from tensorboard<2.19,>=2.18->tensorflow-intel==2.18.0->tensorflow<2.19,>=2.18->tf_keras) (0.7.2)\n",
      "Requirement already satisfied: markdown>=2.6.8 in c:\\users\\naya\\appdata\\local\\programs\\python\\python310\\lib\\site-packages (from tensorboard<2.19,>=2.18->tensorflow-intel==2.18.0->tensorflow<2.19,>=2.18->tf_keras) (3.7)\n",
      "Requirement already satisfied: werkzeug>=1.0.1 in c:\\users\\naya\\appdata\\local\\programs\\python\\python310\\lib\\site-packages (from tensorboard<2.19,>=2.18->tensorflow-intel==2.18.0->tensorflow<2.19,>=2.18->tf_keras) (3.0.6)\n",
      "Requirement already satisfied: MarkupSafe>=2.1.1 in c:\\users\\naya\\appdata\\local\\programs\\python\\python310\\lib\\site-packages (from werkzeug>=1.0.1->tensorboard<2.19,>=2.18->tensorflow-intel==2.18.0->tensorflow<2.19,>=2.18->tf_keras) (3.0.2)\n",
      "Requirement already satisfied: markdown-it-py>=2.2.0 in c:\\users\\naya\\appdata\\local\\programs\\python\\python310\\lib\\site-packages (from rich->keras>=3.5.0->tensorflow-intel==2.18.0->tensorflow<2.19,>=2.18->tf_keras) (3.0.0)\n",
      "Requirement already satisfied: pygments<3.0.0,>=2.13.0 in c:\\users\\naya\\appdata\\local\\programs\\python\\python310\\lib\\site-packages (from rich->keras>=3.5.0->tensorflow-intel==2.18.0->tensorflow<2.19,>=2.18->tf_keras) (2.19.1)\n",
      "Requirement already satisfied: mdurl~=0.1 in c:\\users\\naya\\appdata\\local\\programs\\python\\python310\\lib\\site-packages (from markdown-it-py>=2.2.0->rich->keras>=3.5.0->tensorflow-intel==2.18.0->tensorflow<2.19,>=2.18->tf_keras) (0.1.2)\n",
      "Installing collected packages: tf-keras\n",
      "Successfully installed tf-keras-2.18.0\n"
     ]
    }
   ],
   "source": [
    "!pip install tf_keras"
   ]
  },
  {
   "cell_type": "code",
   "execution_count": 23,
   "id": "43f6f723-f270-4b58-a1af-1d0529c2c88c",
   "metadata": {},
   "outputs": [
    {
     "name": "stdout",
     "output_type": "stream",
     "text": [
      "WARNING:tensorflow:From C:\\Users\\Naya\\AppData\\Local\\Programs\\Python\\Python310\\lib\\site-packages\\tf_keras\\src\\losses.py:2976: The name tf.losses.sparse_softmax_cross_entropy is deprecated. Please use tf.compat.v1.losses.sparse_softmax_cross_entropy instead.\n",
      "\n"
     ]
    },
    {
     "name": "stderr",
     "output_type": "stream",
     "text": [
      "C:\\Users\\Naya\\AppData\\Roaming\\Python\\Python310\\site-packages\\transformers\\models\\vit\\feature_extraction_vit.py:28: FutureWarning: The class ViTFeatureExtractor is deprecated and will be removed in version 5 of Transformers. Please use ViTImageProcessor instead.\n",
      "  warnings.warn(\n",
      "Device set to use cpu\n"
     ]
    }
   ],
   "source": [
    "\n",
    "# Use a pipeline as a high-level helper\n",
    "#from transformers import pipeline\n",
    "\n",
    "pipe2 = pipeline(\"image-classification\", model=\"Mirkat/Plant_Classification\")"
   ]
  },
  {
   "cell_type": "code",
   "execution_count": 30,
   "id": "22a7c260-6832-4f6d-8b87-cfdae6413ea6",
   "metadata": {},
   "outputs": [
    {
     "data": {
      "text/plain": [
       "[[{'label': 'Grape with Black Rot', 'score': 0.9823246002197266},\n",
       "  {'label': 'Tomato with Early Blight', 'score': 0.9292357563972473},\n",
       "  {'label': 'Grape with Esca (Black Measles)', 'score': 0.9062657952308655},\n",
       "  {'label': 'Bell Pepper with Bacterial Spot', 'score': 0.8658576607704163},\n",
       "  {'label': 'Cedar Apple Rust', 'score': 0.6925767660140991}]]"
      ]
     },
     "execution_count": 30,
     "metadata": {},
     "output_type": "execute_result"
    }
   ],
   "source": [
    "pipe(inputs = [\"./7.jpg\"])"
   ]
  },
  {
   "cell_type": "code",
   "execution_count": null,
   "id": "60b65290-7bb7-48fc-af9a-197adb87d1ea",
   "metadata": {},
   "outputs": [],
   "source": []
  }
 ],
 "metadata": {
  "kernelspec": {
   "display_name": "Python 3 (ipykernel)",
   "language": "python",
   "name": "python3"
  },
  "language_info": {
   "codemirror_mode": {
    "name": "ipython",
    "version": 3
   },
   "file_extension": ".py",
   "mimetype": "text/x-python",
   "name": "python",
   "nbconvert_exporter": "python",
   "pygments_lexer": "ipython3",
   "version": "3.10.0"
  }
 },
 "nbformat": 4,
 "nbformat_minor": 5
}
