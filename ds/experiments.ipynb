{
 "cells": [
  {
   "cell_type": "code",
   "execution_count": 2,
   "id": "8ac73dd3-17c3-4a34-930b-0d0d2221df75",
   "metadata": {
    "collapsed": true,
    "jupyter": {
     "outputs_hidden": true
    }
   },
   "outputs": [
    {
     "name": "stdout",
     "output_type": "stream",
     "text": [
      "Requirement already satisfied: numpy>=1.23.0 in c:\\users\\naya\\appdata\\local\\programs\\python\\python310\\lib\\site-packages (from -r requirements.txt (line 1)) (2.0.2)\n",
      "Requirement already satisfied: scipy>=1.9.0 in c:\\users\\naya\\appdata\\local\\programs\\python\\python310\\lib\\site-packages (from -r requirements.txt (line 2)) (1.15.1)\n",
      "Requirement already satisfied: pandas>=1.4.0 in c:\\users\\naya\\appdata\\local\\programs\\python\\python310\\lib\\site-packages (from -r requirements.txt (line 3)) (2.2.3)\n",
      "Requirement already satisfied: matplotlib>=3.5.0 in c:\\users\\naya\\appdata\\local\\programs\\python\\python310\\lib\\site-packages (from -r requirements.txt (line 4)) (3.10.0)\n",
      "Requirement already satisfied: seaborn>=0.11.2 in c:\\users\\naya\\appdata\\roaming\\python\\python310\\site-packages (from -r requirements.txt (line 5)) (0.13.2)\n",
      "Requirement already satisfied: scikit-learn>=1.0.0 in c:\\users\\naya\\appdata\\roaming\\python\\python310\\site-packages (from -r requirements.txt (line 6)) (1.6.1)\n",
      "Requirement already satisfied: torch>=1.12.0 in c:\\users\\naya\\appdata\\roaming\\python\\python310\\site-packages (from -r requirements.txt (line 7)) (2.6.0)\n",
      "Requirement already satisfied: pillow>=9.0.0 in c:\\users\\naya\\appdata\\local\\programs\\python\\python310\\lib\\site-packages (from -r requirements.txt (line 8)) (11.1.0)\n",
      "Requirement already satisfied: pyyaml>=6.0 in c:\\users\\naya\\appdata\\local\\programs\\python\\python310\\lib\\site-packages (from -r requirements.txt (line 9)) (6.0.2)\n",
      "Requirement already satisfied: transformers>=4.48.3 in c:\\users\\naya\\appdata\\roaming\\python\\python310\\site-packages (from -r requirements.txt (line 10)) (4.48.3)\n",
      "Requirement already satisfied: nltk>=3.7 in c:\\users\\naya\\appdata\\roaming\\python\\python310\\site-packages (from -r requirements.txt (line 11)) (3.9.1)\n",
      "Requirement already satisfied: spacy>=3.4.0 in c:\\users\\naya\\appdata\\roaming\\python\\python310\\site-packages (from -r requirements.txt (line 12)) (3.8.4)\n",
      "Requirement already satisfied: jupyterlab>=3.4.0 in c:\\users\\naya\\appdata\\local\\programs\\python\\python310\\lib\\site-packages (from -r requirements.txt (line 13)) (4.3.5)\n",
      "Requirement already satisfied: xgboost>=1.6.0 in c:\\users\\naya\\appdata\\roaming\\python\\python310\\site-packages (from -r requirements.txt (line 14)) (2.1.4)\n",
      "Requirement already satisfied: lightgbm>=3.3.0 in c:\\users\\naya\\appdata\\roaming\\python\\python310\\site-packages (from -r requirements.txt (line 15)) (4.5.0)\n",
      "Requirement already satisfied: plotly>=5.9.0 in c:\\users\\naya\\appdata\\local\\programs\\python\\python310\\lib\\site-packages (from -r requirements.txt (line 16)) (6.0.0)\n",
      "Requirement already satisfied: dash>=2.6.0 in c:\\users\\naya\\appdata\\roaming\\python\\python310\\site-packages (from -r requirements.txt (line 17)) (2.18.2)\n",
      "Requirement already satisfied: kagglehub>=0.3.7 in c:\\users\\naya\\appdata\\local\\programs\\python\\python310\\lib\\site-packages (from -r requirements.txt (line 18)) (0.3.7)\n",
      "Requirement already satisfied: tf-keras>=2.18.0 in c:\\users\\naya\\appdata\\local\\programs\\python\\python310\\lib\\site-packages (from -r requirements.txt (line 19)) (2.18.0)\n",
      "Requirement already satisfied: tzdata>=2022.7 in c:\\users\\naya\\appdata\\local\\programs\\python\\python310\\lib\\site-packages (from pandas>=1.4.0->-r requirements.txt (line 3)) (2025.1)\n",
      "Requirement already satisfied: pytz>=2020.1 in c:\\users\\naya\\appdata\\local\\programs\\python\\python310\\lib\\site-packages (from pandas>=1.4.0->-r requirements.txt (line 3)) (2025.1)\n",
      "Requirement already satisfied: python-dateutil>=2.8.2 in c:\\users\\naya\\appdata\\local\\programs\\python\\python310\\lib\\site-packages (from pandas>=1.4.0->-r requirements.txt (line 3)) (2.9.0.post0)\n",
      "Requirement already satisfied: pyparsing>=2.3.1 in c:\\users\\naya\\appdata\\local\\programs\\python\\python310\\lib\\site-packages (from matplotlib>=3.5.0->-r requirements.txt (line 4)) (3.2.1)\n",
      "Requirement already satisfied: contourpy>=1.0.1 in c:\\users\\naya\\appdata\\local\\programs\\python\\python310\\lib\\site-packages (from matplotlib>=3.5.0->-r requirements.txt (line 4)) (1.3.1)\n",
      "Requirement already satisfied: packaging>=20.0 in c:\\users\\naya\\appdata\\local\\programs\\python\\python310\\lib\\site-packages (from matplotlib>=3.5.0->-r requirements.txt (line 4)) (24.2)\n",
      "Requirement already satisfied: kiwisolver>=1.3.1 in c:\\users\\naya\\appdata\\local\\programs\\python\\python310\\lib\\site-packages (from matplotlib>=3.5.0->-r requirements.txt (line 4)) (1.4.8)\n",
      "Requirement already satisfied: cycler>=0.10 in c:\\users\\naya\\appdata\\local\\programs\\python\\python310\\lib\\site-packages (from matplotlib>=3.5.0->-r requirements.txt (line 4)) (0.12.1)\n",
      "Requirement already satisfied: fonttools>=4.22.0 in c:\\users\\naya\\appdata\\local\\programs\\python\\python310\\lib\\site-packages (from matplotlib>=3.5.0->-r requirements.txt (line 4)) (4.55.8)\n",
      "Requirement already satisfied: threadpoolctl>=3.1.0 in c:\\users\\naya\\appdata\\local\\programs\\python\\python310\\lib\\site-packages (from scikit-learn>=1.0.0->-r requirements.txt (line 6)) (3.5.0)\n",
      "Requirement already satisfied: joblib>=1.2.0 in c:\\users\\naya\\appdata\\roaming\\python\\python310\\site-packages (from scikit-learn>=1.0.0->-r requirements.txt (line 6)) (1.4.2)\n",
      "Requirement already satisfied: sympy==1.13.1 in c:\\users\\naya\\appdata\\local\\programs\\python\\python310\\lib\\site-packages (from torch>=1.12.0->-r requirements.txt (line 7)) (1.13.1)\n",
      "Requirement already satisfied: typing-extensions>=4.10.0 in c:\\users\\naya\\appdata\\local\\programs\\python\\python310\\lib\\site-packages (from torch>=1.12.0->-r requirements.txt (line 7)) (4.12.2)\n",
      "Requirement already satisfied: filelock in c:\\users\\naya\\appdata\\local\\programs\\python\\python310\\lib\\site-packages (from torch>=1.12.0->-r requirements.txt (line 7)) (3.17.0)\n",
      "Requirement already satisfied: jinja2 in c:\\users\\naya\\appdata\\local\\programs\\python\\python310\\lib\\site-packages (from torch>=1.12.0->-r requirements.txt (line 7)) (3.1.5)\n",
      "Requirement already satisfied: networkx in c:\\users\\naya\\appdata\\local\\programs\\python\\python310\\lib\\site-packages (from torch>=1.12.0->-r requirements.txt (line 7)) (3.4.2)\n",
      "Requirement already satisfied: fsspec in c:\\users\\naya\\appdata\\local\\programs\\python\\python310\\lib\\site-packages (from torch>=1.12.0->-r requirements.txt (line 7)) (2025.2.0)\n",
      "Requirement already satisfied: mpmath<1.4,>=1.1.0 in c:\\users\\naya\\appdata\\local\\programs\\python\\python310\\lib\\site-packages (from sympy==1.13.1->torch>=1.12.0->-r requirements.txt (line 7)) (1.3.0)\n",
      "Requirement already satisfied: requests in c:\\users\\naya\\appdata\\local\\programs\\python\\python310\\lib\\site-packages (from transformers>=4.48.3->-r requirements.txt (line 10)) (2.32.3)\n",
      "Requirement already satisfied: tokenizers<0.22,>=0.21 in c:\\users\\naya\\appdata\\local\\programs\\python\\python310\\lib\\site-packages (from transformers>=4.48.3->-r requirements.txt (line 10)) (0.21.0)\n",
      "Requirement already satisfied: regex!=2019.12.17 in c:\\users\\naya\\appdata\\local\\programs\\python\\python310\\lib\\site-packages (from transformers>=4.48.3->-r requirements.txt (line 10)) (2024.11.6)\n",
      "Requirement already satisfied: safetensors>=0.4.1 in c:\\users\\naya\\appdata\\local\\programs\\python\\python310\\lib\\site-packages (from transformers>=4.48.3->-r requirements.txt (line 10)) (0.5.2)\n",
      "Requirement already satisfied: tqdm>=4.27 in c:\\users\\naya\\appdata\\local\\programs\\python\\python310\\lib\\site-packages (from transformers>=4.48.3->-r requirements.txt (line 10)) (4.67.1)\n",
      "Requirement already satisfied: huggingface-hub<1.0,>=0.24.0 in c:\\users\\naya\\appdata\\local\\programs\\python\\python310\\lib\\site-packages (from transformers>=4.48.3->-r requirements.txt (line 10)) (0.28.1)\n",
      "Requirement already satisfied: click in c:\\users\\naya\\appdata\\local\\programs\\python\\python310\\lib\\site-packages (from nltk>=3.7->-r requirements.txt (line 11)) (8.1.8)\n",
      "Requirement already satisfied: preshed<3.1.0,>=3.0.2 in c:\\users\\naya\\appdata\\local\\programs\\python\\python310\\lib\\site-packages (from spacy>=3.4.0->-r requirements.txt (line 12)) (3.0.9)\n",
      "Requirement already satisfied: spacy-loggers<2.0.0,>=1.0.0 in c:\\users\\naya\\appdata\\local\\programs\\python\\python310\\lib\\site-packages (from spacy>=3.4.0->-r requirements.txt (line 12)) (1.0.5)\n",
      "Requirement already satisfied: typer<1.0.0,>=0.3.0 in c:\\users\\naya\\appdata\\local\\programs\\python\\python310\\lib\\site-packages (from spacy>=3.4.0->-r requirements.txt (line 12)) (0.15.1)\n",
      "Requirement already satisfied: cymem<2.1.0,>=2.0.2 in c:\\users\\naya\\appdata\\local\\programs\\python\\python310\\lib\\site-packages (from spacy>=3.4.0->-r requirements.txt (line 12)) (2.0.11)\n",
      "Requirement already satisfied: spacy-legacy<3.1.0,>=3.0.11 in c:\\users\\naya\\appdata\\local\\programs\\python\\python310\\lib\\site-packages (from spacy>=3.4.0->-r requirements.txt (line 12)) (3.0.12)\n",
      "Requirement already satisfied: srsly<3.0.0,>=2.4.3 in c:\\users\\naya\\appdata\\local\\programs\\python\\python310\\lib\\site-packages (from spacy>=3.4.0->-r requirements.txt (line 12)) (2.5.1)\n",
      "Requirement already satisfied: wasabi<1.2.0,>=0.9.1 in c:\\users\\naya\\appdata\\local\\programs\\python\\python310\\lib\\site-packages (from spacy>=3.4.0->-r requirements.txt (line 12)) (1.1.3)\n",
      "Requirement already satisfied: weasel<0.5.0,>=0.1.0 in c:\\users\\naya\\appdata\\local\\programs\\python\\python310\\lib\\site-packages (from spacy>=3.4.0->-r requirements.txt (line 12)) (0.4.1)\n",
      "Requirement already satisfied: murmurhash<1.1.0,>=0.28.0 in c:\\users\\naya\\appdata\\local\\programs\\python\\python310\\lib\\site-packages (from spacy>=3.4.0->-r requirements.txt (line 12)) (1.0.12)\n",
      "Requirement already satisfied: catalogue<2.1.0,>=2.0.6 in c:\\users\\naya\\appdata\\local\\programs\\python\\python310\\lib\\site-packages (from spacy>=3.4.0->-r requirements.txt (line 12)) (2.0.10)\n",
      "Requirement already satisfied: langcodes<4.0.0,>=3.2.0 in c:\\users\\naya\\appdata\\roaming\\python\\python310\\site-packages (from spacy>=3.4.0->-r requirements.txt (line 12)) (3.5.0)\n",
      "Requirement already satisfied: setuptools in c:\\users\\naya\\appdata\\local\\programs\\python\\python310\\lib\\site-packages (from spacy>=3.4.0->-r requirements.txt (line 12)) (57.4.0)\n",
      "Requirement already satisfied: pydantic!=1.8,!=1.8.1,<3.0.0,>=1.7.4 in c:\\users\\naya\\appdata\\local\\programs\\python\\python310\\lib\\site-packages (from spacy>=3.4.0->-r requirements.txt (line 12)) (2.10.6)\n",
      "Requirement already satisfied: thinc<8.4.0,>=8.3.4 in c:\\users\\naya\\appdata\\local\\programs\\python\\python310\\lib\\site-packages (from spacy>=3.4.0->-r requirements.txt (line 12)) (8.3.4)\n",
      "Requirement already satisfied: jupyter-lsp>=2.0.0 in c:\\users\\naya\\appdata\\local\\programs\\python\\python310\\lib\\site-packages (from jupyterlab>=3.4.0->-r requirements.txt (line 13)) (2.2.5)\n",
      "Requirement already satisfied: async-lru>=1.0.0 in c:\\users\\naya\\appdata\\local\\programs\\python\\python310\\lib\\site-packages (from jupyterlab>=3.4.0->-r requirements.txt (line 13)) (2.0.4)\n",
      "Requirement already satisfied: httpx>=0.25.0 in c:\\users\\naya\\appdata\\local\\programs\\python\\python310\\lib\\site-packages (from jupyterlab>=3.4.0->-r requirements.txt (line 13)) (0.28.1)\n",
      "Requirement already satisfied: jupyter-server<3,>=2.4.0 in c:\\users\\naya\\appdata\\local\\programs\\python\\python310\\lib\\site-packages (from jupyterlab>=3.4.0->-r requirements.txt (line 13)) (2.15.0)\n",
      "Requirement already satisfied: jupyterlab-server<3,>=2.27.1 in c:\\users\\naya\\appdata\\local\\programs\\python\\python310\\lib\\site-packages (from jupyterlab>=3.4.0->-r requirements.txt (line 13)) (2.27.3)\n",
      "Requirement already satisfied: notebook-shim>=0.2 in c:\\users\\naya\\appdata\\local\\programs\\python\\python310\\lib\\site-packages (from jupyterlab>=3.4.0->-r requirements.txt (line 13)) (0.2.4)\n",
      "Requirement already satisfied: tomli>=1.2.2 in c:\\users\\naya\\appdata\\local\\programs\\python\\python310\\lib\\site-packages (from jupyterlab>=3.4.0->-r requirements.txt (line 13)) (2.2.1)\n",
      "Requirement already satisfied: tornado>=6.2.0 in c:\\users\\naya\\appdata\\local\\programs\\python\\python310\\lib\\site-packages (from jupyterlab>=3.4.0->-r requirements.txt (line 13)) (6.4.2)\n",
      "Requirement already satisfied: jupyter-core in c:\\users\\naya\\appdata\\local\\programs\\python\\python310\\lib\\site-packages (from jupyterlab>=3.4.0->-r requirements.txt (line 13)) (5.7.2)\n",
      "Requirement already satisfied: traitlets in c:\\users\\naya\\appdata\\local\\programs\\python\\python310\\lib\\site-packages (from jupyterlab>=3.4.0->-r requirements.txt (line 13)) (5.14.3)\n",
      "Requirement already satisfied: ipykernel>=6.5.0 in c:\\users\\naya\\appdata\\local\\programs\\python\\python310\\lib\\site-packages (from jupyterlab>=3.4.0->-r requirements.txt (line 13)) (6.29.5)\n",
      "Requirement already satisfied: narwhals>=1.15.1 in c:\\users\\naya\\appdata\\local\\programs\\python\\python310\\lib\\site-packages (from plotly>=5.9.0->-r requirements.txt (line 16)) (1.25.2)\n",
      "Requirement already satisfied: retrying in c:\\users\\naya\\appdata\\local\\programs\\python\\python310\\lib\\site-packages (from dash>=2.6.0->-r requirements.txt (line 17)) (1.3.4)\n",
      "Requirement already satisfied: nest-asyncio in c:\\users\\naya\\appdata\\local\\programs\\python\\python310\\lib\\site-packages (from dash>=2.6.0->-r requirements.txt (line 17)) (1.6.0)\n",
      "Requirement already satisfied: Werkzeug<3.1 in c:\\users\\naya\\appdata\\local\\programs\\python\\python310\\lib\\site-packages (from dash>=2.6.0->-r requirements.txt (line 17)) (3.0.6)\n",
      "Requirement already satisfied: dash-core-components==2.0.0 in c:\\users\\naya\\appdata\\roaming\\python\\python310\\site-packages (from dash>=2.6.0->-r requirements.txt (line 17)) (2.0.0)\n",
      "Requirement already satisfied: dash-html-components==2.0.0 in c:\\users\\naya\\appdata\\roaming\\python\\python310\\site-packages (from dash>=2.6.0->-r requirements.txt (line 17)) (2.0.0)\n",
      "Requirement already satisfied: importlib-metadata in c:\\users\\naya\\appdata\\roaming\\python\\python310\\site-packages (from dash>=2.6.0->-r requirements.txt (line 17)) (8.6.1)\n",
      "Requirement already satisfied: Flask<3.1,>=1.0.4 in c:\\users\\naya\\appdata\\roaming\\python\\python310\\site-packages (from dash>=2.6.0->-r requirements.txt (line 17)) (3.0.3)\n",
      "Requirement already satisfied: dash-table==5.0.0 in c:\\users\\naya\\appdata\\roaming\\python\\python310\\site-packages (from dash>=2.6.0->-r requirements.txt (line 17)) (5.0.0)\n",
      "Requirement already satisfied: model-signing in c:\\users\\naya\\appdata\\local\\programs\\python\\python310\\lib\\site-packages (from kagglehub>=0.3.7->-r requirements.txt (line 18)) (0.2.0)\n",
      "Requirement already satisfied: tensorflow<2.19,>=2.18 in c:\\users\\naya\\appdata\\local\\programs\\python\\python310\\lib\\site-packages (from tf-keras>=2.18.0->-r requirements.txt (line 19)) (2.18.0)\n",
      "Requirement already satisfied: itsdangerous>=2.1.2 in c:\\users\\naya\\appdata\\local\\programs\\python\\python310\\lib\\site-packages (from Flask<3.1,>=1.0.4->dash>=2.6.0->-r requirements.txt (line 17)) (2.2.0)\n",
      "Requirement already satisfied: blinker>=1.6.2 in c:\\users\\naya\\appdata\\local\\programs\\python\\python310\\lib\\site-packages (from Flask<3.1,>=1.0.4->dash>=2.6.0->-r requirements.txt (line 17)) (1.9.0)\n",
      "Requirement already satisfied: colorama in c:\\users\\naya\\appdata\\local\\programs\\python\\python310\\lib\\site-packages (from click->nltk>=3.7->-r requirements.txt (line 11)) (0.4.6)\n",
      "Requirement already satisfied: idna in c:\\users\\naya\\appdata\\local\\programs\\python\\python310\\lib\\site-packages (from httpx>=0.25.0->jupyterlab>=3.4.0->-r requirements.txt (line 13)) (3.10)\n",
      "Requirement already satisfied: anyio in c:\\users\\naya\\appdata\\local\\programs\\python\\python310\\lib\\site-packages (from httpx>=0.25.0->jupyterlab>=3.4.0->-r requirements.txt (line 13)) (4.8.0)\n",
      "Requirement already satisfied: httpcore==1.* in c:\\users\\naya\\appdata\\local\\programs\\python\\python310\\lib\\site-packages (from httpx>=0.25.0->jupyterlab>=3.4.0->-r requirements.txt (line 13)) (1.0.7)\n",
      "Requirement already satisfied: certifi in c:\\users\\naya\\appdata\\local\\programs\\python\\python310\\lib\\site-packages (from httpx>=0.25.0->jupyterlab>=3.4.0->-r requirements.txt (line 13)) (2025.1.31)\n",
      "Requirement already satisfied: h11<0.15,>=0.13 in c:\\users\\naya\\appdata\\local\\programs\\python\\python310\\lib\\site-packages (from httpcore==1.*->httpx>=0.25.0->jupyterlab>=3.4.0->-r requirements.txt (line 13)) (0.14.0)\n",
      "Requirement already satisfied: debugpy>=1.6.5 in c:\\users\\naya\\appdata\\local\\programs\\python\\python310\\lib\\site-packages (from ipykernel>=6.5.0->jupyterlab>=3.4.0->-r requirements.txt (line 13)) (1.8.12)\n",
      "Requirement already satisfied: comm>=0.1.1 in c:\\users\\naya\\appdata\\local\\programs\\python\\python310\\lib\\site-packages (from ipykernel>=6.5.0->jupyterlab>=3.4.0->-r requirements.txt (line 13)) (0.2.2)\n",
      "Requirement already satisfied: jupyter-client>=6.1.12 in c:\\users\\naya\\appdata\\local\\programs\\python\\python310\\lib\\site-packages (from ipykernel>=6.5.0->jupyterlab>=3.4.0->-r requirements.txt (line 13)) (8.6.3)\n",
      "Requirement already satisfied: matplotlib-inline>=0.1 in c:\\users\\naya\\appdata\\local\\programs\\python\\python310\\lib\\site-packages (from ipykernel>=6.5.0->jupyterlab>=3.4.0->-r requirements.txt (line 13)) (0.1.7)\n",
      "Requirement already satisfied: pyzmq>=24 in c:\\users\\naya\\appdata\\local\\programs\\python\\python310\\lib\\site-packages (from ipykernel>=6.5.0->jupyterlab>=3.4.0->-r requirements.txt (line 13)) (26.2.1)\n",
      "Requirement already satisfied: psutil in c:\\users\\naya\\appdata\\local\\programs\\python\\python310\\lib\\site-packages (from ipykernel>=6.5.0->jupyterlab>=3.4.0->-r requirements.txt (line 13)) (6.1.1)\n",
      "Requirement already satisfied: ipython>=7.23.1 in c:\\users\\naya\\appdata\\local\\programs\\python\\python310\\lib\\site-packages (from ipykernel>=6.5.0->jupyterlab>=3.4.0->-r requirements.txt (line 13)) (8.32.0)\n",
      "Requirement already satisfied: decorator in c:\\users\\naya\\appdata\\local\\programs\\python\\python310\\lib\\site-packages (from ipython>=7.23.1->ipykernel>=6.5.0->jupyterlab>=3.4.0->-r requirements.txt (line 13)) (5.1.1)\n",
      "Requirement already satisfied: prompt_toolkit<3.1.0,>=3.0.41 in c:\\users\\naya\\appdata\\local\\programs\\python\\python310\\lib\\site-packages (from ipython>=7.23.1->ipykernel>=6.5.0->jupyterlab>=3.4.0->-r requirements.txt (line 13)) (3.0.50)\n",
      "Requirement already satisfied: stack_data in c:\\users\\naya\\appdata\\local\\programs\\python\\python310\\lib\\site-packages (from ipython>=7.23.1->ipykernel>=6.5.0->jupyterlab>=3.4.0->-r requirements.txt (line 13)) (0.6.3)\n",
      "Requirement already satisfied: pygments>=2.4.0 in c:\\users\\naya\\appdata\\local\\programs\\python\\python310\\lib\\site-packages (from ipython>=7.23.1->ipykernel>=6.5.0->jupyterlab>=3.4.0->-r requirements.txt (line 13)) (2.19.1)\n",
      "Requirement already satisfied: jedi>=0.16 in c:\\users\\naya\\appdata\\local\\programs\\python\\python310\\lib\\site-packages (from ipython>=7.23.1->ipykernel>=6.5.0->jupyterlab>=3.4.0->-r requirements.txt (line 13)) (0.19.2)\n",
      "Requirement already satisfied: exceptiongroup in c:\\users\\naya\\appdata\\local\\programs\\python\\python310\\lib\\site-packages (from ipython>=7.23.1->ipykernel>=6.5.0->jupyterlab>=3.4.0->-r requirements.txt (line 13)) (1.2.2)\n",
      "Requirement already satisfied: parso<0.9.0,>=0.8.4 in c:\\users\\naya\\appdata\\local\\programs\\python\\python310\\lib\\site-packages (from jedi>=0.16->ipython>=7.23.1->ipykernel>=6.5.0->jupyterlab>=3.4.0->-r requirements.txt (line 13)) (0.8.4)\n",
      "Requirement already satisfied: MarkupSafe>=2.0 in c:\\users\\naya\\appdata\\local\\programs\\python\\python310\\lib\\site-packages (from jinja2->torch>=1.12.0->-r requirements.txt (line 7)) (3.0.2)\n",
      "Requirement already satisfied: pywin32>=300 in c:\\users\\naya\\appdata\\local\\programs\\python\\python310\\lib\\site-packages (from jupyter-core->jupyterlab>=3.4.0->-r requirements.txt (line 13)) (308)\n",
      "Requirement already satisfied: platformdirs>=2.5 in c:\\users\\naya\\appdata\\local\\programs\\python\\python310\\lib\\site-packages (from jupyter-core->jupyterlab>=3.4.0->-r requirements.txt (line 13)) (4.3.6)\n",
      "Requirement already satisfied: jupyter-server-terminals>=0.4.4 in c:\\users\\naya\\appdata\\local\\programs\\python\\python310\\lib\\site-packages (from jupyter-server<3,>=2.4.0->jupyterlab>=3.4.0->-r requirements.txt (line 13)) (0.5.3)\n",
      "Requirement already satisfied: pywinpty>=2.0.1 in c:\\users\\naya\\appdata\\local\\programs\\python\\python310\\lib\\site-packages (from jupyter-server<3,>=2.4.0->jupyterlab>=3.4.0->-r requirements.txt (line 13)) (2.0.15)\n",
      "Requirement already satisfied: terminado>=0.8.3 in c:\\users\\naya\\appdata\\local\\programs\\python\\python310\\lib\\site-packages (from jupyter-server<3,>=2.4.0->jupyterlab>=3.4.0->-r requirements.txt (line 13)) (0.18.1)\n",
      "Requirement already satisfied: overrides>=5.0 in c:\\users\\naya\\appdata\\local\\programs\\python\\python310\\lib\\site-packages (from jupyter-server<3,>=2.4.0->jupyterlab>=3.4.0->-r requirements.txt (line 13)) (7.7.0)\n",
      "Requirement already satisfied: send2trash>=1.8.2 in c:\\users\\naya\\appdata\\local\\programs\\python\\python310\\lib\\site-packages (from jupyter-server<3,>=2.4.0->jupyterlab>=3.4.0->-r requirements.txt (line 13)) (1.8.3)\n",
      "Requirement already satisfied: websocket-client>=1.7 in c:\\users\\naya\\appdata\\local\\programs\\python\\python310\\lib\\site-packages (from jupyter-server<3,>=2.4.0->jupyterlab>=3.4.0->-r requirements.txt (line 13)) (1.8.0)\n",
      "Requirement already satisfied: prometheus-client>=0.9 in c:\\users\\naya\\appdata\\local\\programs\\python\\python310\\lib\\site-packages (from jupyter-server<3,>=2.4.0->jupyterlab>=3.4.0->-r requirements.txt (line 13)) (0.21.1)\n",
      "Requirement already satisfied: nbconvert>=6.4.4 in c:\\users\\naya\\appdata\\local\\programs\\python\\python310\\lib\\site-packages (from jupyter-server<3,>=2.4.0->jupyterlab>=3.4.0->-r requirements.txt (line 13)) (7.16.6)\n",
      "Requirement already satisfied: jupyter-events>=0.11.0 in c:\\users\\naya\\appdata\\local\\programs\\python\\python310\\lib\\site-packages (from jupyter-server<3,>=2.4.0->jupyterlab>=3.4.0->-r requirements.txt (line 13)) (0.12.0)\n",
      "Requirement already satisfied: argon2-cffi>=21.1 in c:\\users\\naya\\appdata\\local\\programs\\python\\python310\\lib\\site-packages (from jupyter-server<3,>=2.4.0->jupyterlab>=3.4.0->-r requirements.txt (line 13)) (23.1.0)\n",
      "Requirement already satisfied: nbformat>=5.3.0 in c:\\users\\naya\\appdata\\local\\programs\\python\\python310\\lib\\site-packages (from jupyter-server<3,>=2.4.0->jupyterlab>=3.4.0->-r requirements.txt (line 13)) (5.10.4)\n",
      "Requirement already satisfied: sniffio>=1.1 in c:\\users\\naya\\appdata\\local\\programs\\python\\python310\\lib\\site-packages (from anyio->httpx>=0.25.0->jupyterlab>=3.4.0->-r requirements.txt (line 13)) (1.3.1)\n",
      "Requirement already satisfied: argon2-cffi-bindings in c:\\users\\naya\\appdata\\local\\programs\\python\\python310\\lib\\site-packages (from argon2-cffi>=21.1->jupyter-server<3,>=2.4.0->jupyterlab>=3.4.0->-r requirements.txt (line 13)) (21.2.0)\n",
      "Requirement already satisfied: python-json-logger>=2.0.4 in c:\\users\\naya\\appdata\\local\\programs\\python\\python310\\lib\\site-packages (from jupyter-events>=0.11.0->jupyter-server<3,>=2.4.0->jupyterlab>=3.4.0->-r requirements.txt (line 13)) (3.2.1)\n",
      "Requirement already satisfied: jsonschema[format-nongpl]>=4.18.0 in c:\\users\\naya\\appdata\\local\\programs\\python\\python310\\lib\\site-packages (from jupyter-events>=0.11.0->jupyter-server<3,>=2.4.0->jupyterlab>=3.4.0->-r requirements.txt (line 13)) (4.23.0)\n",
      "Requirement already satisfied: rfc3986-validator>=0.1.1 in c:\\users\\naya\\appdata\\local\\programs\\python\\python310\\lib\\site-packages (from jupyter-events>=0.11.0->jupyter-server<3,>=2.4.0->jupyterlab>=3.4.0->-r requirements.txt (line 13)) (0.1.1)\n",
      "Requirement already satisfied: rfc3339-validator in c:\\users\\naya\\appdata\\local\\programs\\python\\python310\\lib\\site-packages (from jupyter-events>=0.11.0->jupyter-server<3,>=2.4.0->jupyterlab>=3.4.0->-r requirements.txt (line 13)) (0.1.4)\n",
      "Requirement already satisfied: referencing in c:\\users\\naya\\appdata\\local\\programs\\python\\python310\\lib\\site-packages (from jupyter-events>=0.11.0->jupyter-server<3,>=2.4.0->jupyterlab>=3.4.0->-r requirements.txt (line 13)) (0.36.2)\n",
      "Requirement already satisfied: attrs>=22.2.0 in c:\\users\\naya\\appdata\\local\\programs\\python\\python310\\lib\\site-packages (from jsonschema[format-nongpl]>=4.18.0->jupyter-events>=0.11.0->jupyter-server<3,>=2.4.0->jupyterlab>=3.4.0->-r requirements.txt (line 13)) (25.1.0)\n",
      "Requirement already satisfied: jsonschema-specifications>=2023.03.6 in c:\\users\\naya\\appdata\\local\\programs\\python\\python310\\lib\\site-packages (from jsonschema[format-nongpl]>=4.18.0->jupyter-events>=0.11.0->jupyter-server<3,>=2.4.0->jupyterlab>=3.4.0->-r requirements.txt (line 13)) (2024.10.1)\n",
      "Requirement already satisfied: rpds-py>=0.7.1 in c:\\users\\naya\\appdata\\local\\programs\\python\\python310\\lib\\site-packages (from jsonschema[format-nongpl]>=4.18.0->jupyter-events>=0.11.0->jupyter-server<3,>=2.4.0->jupyterlab>=3.4.0->-r requirements.txt (line 13)) (0.22.3)\n",
      "Requirement already satisfied: fqdn in c:\\users\\naya\\appdata\\local\\programs\\python\\python310\\lib\\site-packages (from jsonschema[format-nongpl]>=4.18.0->jupyter-events>=0.11.0->jupyter-server<3,>=2.4.0->jupyterlab>=3.4.0->-r requirements.txt (line 13)) (1.5.1)\n",
      "Requirement already satisfied: webcolors>=24.6.0 in c:\\users\\naya\\appdata\\local\\programs\\python\\python310\\lib\\site-packages (from jsonschema[format-nongpl]>=4.18.0->jupyter-events>=0.11.0->jupyter-server<3,>=2.4.0->jupyterlab>=3.4.0->-r requirements.txt (line 13)) (24.11.1)\n",
      "Requirement already satisfied: isoduration in c:\\users\\naya\\appdata\\local\\programs\\python\\python310\\lib\\site-packages (from jsonschema[format-nongpl]>=4.18.0->jupyter-events>=0.11.0->jupyter-server<3,>=2.4.0->jupyterlab>=3.4.0->-r requirements.txt (line 13)) (20.11.0)\n",
      "Requirement already satisfied: uri-template in c:\\users\\naya\\appdata\\local\\programs\\python\\python310\\lib\\site-packages (from jsonschema[format-nongpl]>=4.18.0->jupyter-events>=0.11.0->jupyter-server<3,>=2.4.0->jupyterlab>=3.4.0->-r requirements.txt (line 13)) (1.3.0)\n",
      "Requirement already satisfied: jsonpointer>1.13 in c:\\users\\naya\\appdata\\local\\programs\\python\\python310\\lib\\site-packages (from jsonschema[format-nongpl]>=4.18.0->jupyter-events>=0.11.0->jupyter-server<3,>=2.4.0->jupyterlab>=3.4.0->-r requirements.txt (line 13)) (3.0.0)\n",
      "Requirement already satisfied: babel>=2.10 in c:\\users\\naya\\appdata\\local\\programs\\python\\python310\\lib\\site-packages (from jupyterlab-server<3,>=2.27.1->jupyterlab>=3.4.0->-r requirements.txt (line 13)) (2.17.0)\n",
      "Requirement already satisfied: json5>=0.9.0 in c:\\users\\naya\\appdata\\local\\programs\\python\\python310\\lib\\site-packages (from jupyterlab-server<3,>=2.27.1->jupyterlab>=3.4.0->-r requirements.txt (line 13)) (0.10.0)\n",
      "Requirement already satisfied: language-data>=1.2 in c:\\users\\naya\\appdata\\local\\programs\\python\\python310\\lib\\site-packages (from langcodes<4.0.0,>=3.2.0->spacy>=3.4.0->-r requirements.txt (line 12)) (1.3.0)\n",
      "Requirement already satisfied: marisa-trie>=1.1.0 in c:\\users\\naya\\appdata\\local\\programs\\python\\python310\\lib\\site-packages (from language-data>=1.2->langcodes<4.0.0,>=3.2.0->spacy>=3.4.0->-r requirements.txt (line 12)) (1.2.1)\n",
      "Requirement already satisfied: bleach[css]!=5.0.0 in c:\\users\\naya\\appdata\\local\\programs\\python\\python310\\lib\\site-packages (from nbconvert>=6.4.4->jupyter-server<3,>=2.4.0->jupyterlab>=3.4.0->-r requirements.txt (line 13)) (6.2.0)\n",
      "Requirement already satisfied: nbclient>=0.5.0 in c:\\users\\naya\\appdata\\local\\programs\\python\\python310\\lib\\site-packages (from nbconvert>=6.4.4->jupyter-server<3,>=2.4.0->jupyterlab>=3.4.0->-r requirements.txt (line 13)) (0.10.2)\n",
      "Requirement already satisfied: jupyterlab-pygments in c:\\users\\naya\\appdata\\local\\programs\\python\\python310\\lib\\site-packages (from nbconvert>=6.4.4->jupyter-server<3,>=2.4.0->jupyterlab>=3.4.0->-r requirements.txt (line 13)) (0.3.0)\n",
      "Requirement already satisfied: pandocfilters>=1.4.1 in c:\\users\\naya\\appdata\\local\\programs\\python\\python310\\lib\\site-packages (from nbconvert>=6.4.4->jupyter-server<3,>=2.4.0->jupyterlab>=3.4.0->-r requirements.txt (line 13)) (1.5.1)\n",
      "Requirement already satisfied: defusedxml in c:\\users\\naya\\appdata\\local\\programs\\python\\python310\\lib\\site-packages (from nbconvert>=6.4.4->jupyter-server<3,>=2.4.0->jupyterlab>=3.4.0->-r requirements.txt (line 13)) (0.7.1)\n",
      "Requirement already satisfied: beautifulsoup4 in c:\\users\\naya\\appdata\\local\\programs\\python\\python310\\lib\\site-packages (from nbconvert>=6.4.4->jupyter-server<3,>=2.4.0->jupyterlab>=3.4.0->-r requirements.txt (line 13)) (4.13.3)\n",
      "Requirement already satisfied: mistune<4,>=2.0.3 in c:\\users\\naya\\appdata\\local\\programs\\python\\python310\\lib\\site-packages (from nbconvert>=6.4.4->jupyter-server<3,>=2.4.0->jupyterlab>=3.4.0->-r requirements.txt (line 13)) (3.1.1)\n",
      "Requirement already satisfied: webencodings in c:\\users\\naya\\appdata\\local\\programs\\python\\python310\\lib\\site-packages (from bleach[css]!=5.0.0->nbconvert>=6.4.4->jupyter-server<3,>=2.4.0->jupyterlab>=3.4.0->-r requirements.txt (line 13)) (0.5.1)\n",
      "Requirement already satisfied: tinycss2<1.5,>=1.1.0 in c:\\users\\naya\\appdata\\local\\programs\\python\\python310\\lib\\site-packages (from bleach[css]!=5.0.0->nbconvert>=6.4.4->jupyter-server<3,>=2.4.0->jupyterlab>=3.4.0->-r requirements.txt (line 13)) (1.4.0)\n",
      "Requirement already satisfied: fastjsonschema>=2.15 in c:\\users\\naya\\appdata\\local\\programs\\python\\python310\\lib\\site-packages (from nbformat>=5.3.0->jupyter-server<3,>=2.4.0->jupyterlab>=3.4.0->-r requirements.txt (line 13)) (2.21.1)\n",
      "Requirement already satisfied: wcwidth in c:\\users\\naya\\appdata\\local\\programs\\python\\python310\\lib\\site-packages (from prompt_toolkit<3.1.0,>=3.0.41->ipython>=7.23.1->ipykernel>=6.5.0->jupyterlab>=3.4.0->-r requirements.txt (line 13)) (0.2.13)\n",
      "Requirement already satisfied: pydantic-core==2.27.2 in c:\\users\\naya\\appdata\\local\\programs\\python\\python310\\lib\\site-packages (from pydantic!=1.8,!=1.8.1,<3.0.0,>=1.7.4->spacy>=3.4.0->-r requirements.txt (line 12)) (2.27.2)\n",
      "Requirement already satisfied: annotated-types>=0.6.0 in c:\\users\\naya\\appdata\\local\\programs\\python\\python310\\lib\\site-packages (from pydantic!=1.8,!=1.8.1,<3.0.0,>=1.7.4->spacy>=3.4.0->-r requirements.txt (line 12)) (0.7.0)\n",
      "Requirement already satisfied: six>=1.5 in c:\\users\\naya\\appdata\\local\\programs\\python\\python310\\lib\\site-packages (from python-dateutil>=2.8.2->pandas>=1.4.0->-r requirements.txt (line 3)) (1.17.0)\n",
      "Requirement already satisfied: charset-normalizer<4,>=2 in c:\\users\\naya\\appdata\\local\\programs\\python\\python310\\lib\\site-packages (from requests->transformers>=4.48.3->-r requirements.txt (line 10)) (3.4.1)\n",
      "Requirement already satisfied: urllib3<3,>=1.21.1 in c:\\users\\naya\\appdata\\local\\programs\\python\\python310\\lib\\site-packages (from requests->transformers>=4.48.3->-r requirements.txt (line 10)) (2.3.0)\n",
      "Requirement already satisfied: tensorflow-intel==2.18.0 in c:\\users\\naya\\appdata\\local\\programs\\python\\python310\\lib\\site-packages (from tensorflow<2.19,>=2.18->tf-keras>=2.18.0->-r requirements.txt (line 19)) (2.18.0)\n",
      "Requirement already satisfied: gast!=0.5.0,!=0.5.1,!=0.5.2,>=0.2.1 in c:\\users\\naya\\appdata\\local\\programs\\python\\python310\\lib\\site-packages (from tensorflow-intel==2.18.0->tensorflow<2.19,>=2.18->tf-keras>=2.18.0->-r requirements.txt (line 19)) (0.6.0)\n",
      "Requirement already satisfied: wrapt>=1.11.0 in c:\\users\\naya\\appdata\\local\\programs\\python\\python310\\lib\\site-packages (from tensorflow-intel==2.18.0->tensorflow<2.19,>=2.18->tf-keras>=2.18.0->-r requirements.txt (line 19)) (1.17.2)\n",
      "Requirement already satisfied: h5py>=3.11.0 in c:\\users\\naya\\appdata\\local\\programs\\python\\python310\\lib\\site-packages (from tensorflow-intel==2.18.0->tensorflow<2.19,>=2.18->tf-keras>=2.18.0->-r requirements.txt (line 19)) (3.12.1)\n",
      "Requirement already satisfied: ml-dtypes<0.5.0,>=0.4.0 in c:\\users\\naya\\appdata\\local\\programs\\python\\python310\\lib\\site-packages (from tensorflow-intel==2.18.0->tensorflow<2.19,>=2.18->tf-keras>=2.18.0->-r requirements.txt (line 19)) (0.4.1)\n",
      "Requirement already satisfied: grpcio<2.0,>=1.24.3 in c:\\users\\naya\\appdata\\local\\programs\\python\\python310\\lib\\site-packages (from tensorflow-intel==2.18.0->tensorflow<2.19,>=2.18->tf-keras>=2.18.0->-r requirements.txt (line 19)) (1.70.0)\n",
      "Requirement already satisfied: astunparse>=1.6.0 in c:\\users\\naya\\appdata\\local\\programs\\python\\python310\\lib\\site-packages (from tensorflow-intel==2.18.0->tensorflow<2.19,>=2.18->tf-keras>=2.18.0->-r requirements.txt (line 19)) (1.6.3)\n",
      "Requirement already satisfied: flatbuffers>=24.3.25 in c:\\users\\naya\\appdata\\local\\programs\\python\\python310\\lib\\site-packages (from tensorflow-intel==2.18.0->tensorflow<2.19,>=2.18->tf-keras>=2.18.0->-r requirements.txt (line 19)) (25.1.24)\n",
      "Requirement already satisfied: absl-py>=1.0.0 in c:\\users\\naya\\appdata\\local\\programs\\python\\python310\\lib\\site-packages (from tensorflow-intel==2.18.0->tensorflow<2.19,>=2.18->tf-keras>=2.18.0->-r requirements.txt (line 19)) (2.1.0)\n",
      "Requirement already satisfied: google-pasta>=0.1.1 in c:\\users\\naya\\appdata\\local\\programs\\python\\python310\\lib\\site-packages (from tensorflow-intel==2.18.0->tensorflow<2.19,>=2.18->tf-keras>=2.18.0->-r requirements.txt (line 19)) (0.2.0)\n",
      "Requirement already satisfied: termcolor>=1.1.0 in c:\\users\\naya\\appdata\\local\\programs\\python\\python310\\lib\\site-packages (from tensorflow-intel==2.18.0->tensorflow<2.19,>=2.18->tf-keras>=2.18.0->-r requirements.txt (line 19)) (2.5.0)\n",
      "Requirement already satisfied: tensorboard<2.19,>=2.18 in c:\\users\\naya\\appdata\\local\\programs\\python\\python310\\lib\\site-packages (from tensorflow-intel==2.18.0->tensorflow<2.19,>=2.18->tf-keras>=2.18.0->-r requirements.txt (line 19)) (2.18.0)\n",
      "Requirement already satisfied: libclang>=13.0.0 in c:\\users\\naya\\appdata\\local\\programs\\python\\python310\\lib\\site-packages (from tensorflow-intel==2.18.0->tensorflow<2.19,>=2.18->tf-keras>=2.18.0->-r requirements.txt (line 19)) (18.1.1)\n",
      "Requirement already satisfied: opt-einsum>=2.3.2 in c:\\users\\naya\\appdata\\local\\programs\\python\\python310\\lib\\site-packages (from tensorflow-intel==2.18.0->tensorflow<2.19,>=2.18->tf-keras>=2.18.0->-r requirements.txt (line 19)) (3.4.0)\n",
      "Requirement already satisfied: protobuf!=4.21.0,!=4.21.1,!=4.21.2,!=4.21.3,!=4.21.4,!=4.21.5,<6.0.0dev,>=3.20.3 in c:\\users\\naya\\appdata\\local\\programs\\python\\python310\\lib\\site-packages (from tensorflow-intel==2.18.0->tensorflow<2.19,>=2.18->tf-keras>=2.18.0->-r requirements.txt (line 19)) (5.29.3)\n",
      "Requirement already satisfied: tensorflow-io-gcs-filesystem>=0.23.1 in c:\\users\\naya\\appdata\\local\\programs\\python\\python310\\lib\\site-packages (from tensorflow-intel==2.18.0->tensorflow<2.19,>=2.18->tf-keras>=2.18.0->-r requirements.txt (line 19)) (0.31.0)\n",
      "Requirement already satisfied: keras>=3.5.0 in c:\\users\\naya\\appdata\\local\\programs\\python\\python310\\lib\\site-packages (from tensorflow-intel==2.18.0->tensorflow<2.19,>=2.18->tf-keras>=2.18.0->-r requirements.txt (line 19)) (3.8.0)\n",
      "Requirement already satisfied: wheel<1.0,>=0.23.0 in c:\\users\\naya\\appdata\\local\\programs\\python\\python310\\lib\\site-packages (from astunparse>=1.6.0->tensorflow-intel==2.18.0->tensorflow<2.19,>=2.18->tf-keras>=2.18.0->-r requirements.txt (line 19)) (0.45.1)\n",
      "Requirement already satisfied: optree in c:\\users\\naya\\appdata\\local\\programs\\python\\python310\\lib\\site-packages (from keras>=3.5.0->tensorflow-intel==2.18.0->tensorflow<2.19,>=2.18->tf-keras>=2.18.0->-r requirements.txt (line 19)) (0.14.0)\n",
      "Requirement already satisfied: rich in c:\\users\\naya\\appdata\\local\\programs\\python\\python310\\lib\\site-packages (from keras>=3.5.0->tensorflow-intel==2.18.0->tensorflow<2.19,>=2.18->tf-keras>=2.18.0->-r requirements.txt (line 19)) (13.9.4)\n",
      "Requirement already satisfied: namex in c:\\users\\naya\\appdata\\local\\programs\\python\\python310\\lib\\site-packages (from keras>=3.5.0->tensorflow-intel==2.18.0->tensorflow<2.19,>=2.18->tf-keras>=2.18.0->-r requirements.txt (line 19)) (0.0.8)\n",
      "Requirement already satisfied: markdown>=2.6.8 in c:\\users\\naya\\appdata\\local\\programs\\python\\python310\\lib\\site-packages (from tensorboard<2.19,>=2.18->tensorflow-intel==2.18.0->tensorflow<2.19,>=2.18->tf-keras>=2.18.0->-r requirements.txt (line 19)) (3.7)\n",
      "Requirement already satisfied: tensorboard-data-server<0.8.0,>=0.7.0 in c:\\users\\naya\\appdata\\local\\programs\\python\\python310\\lib\\site-packages (from tensorboard<2.19,>=2.18->tensorflow-intel==2.18.0->tensorflow<2.19,>=2.18->tf-keras>=2.18.0->-r requirements.txt (line 19)) (0.7.2)\n",
      "Requirement already satisfied: blis<1.3.0,>=1.2.0 in c:\\users\\naya\\appdata\\local\\programs\\python\\python310\\lib\\site-packages (from thinc<8.4.0,>=8.3.4->spacy>=3.4.0->-r requirements.txt (line 12)) (1.2.0)\n",
      "Requirement already satisfied: confection<1.0.0,>=0.0.1 in c:\\users\\naya\\appdata\\local\\programs\\python\\python310\\lib\\site-packages (from thinc<8.4.0,>=8.3.4->spacy>=3.4.0->-r requirements.txt (line 12)) (0.1.5)\n",
      "Requirement already satisfied: shellingham>=1.3.0 in c:\\users\\naya\\appdata\\local\\programs\\python\\python310\\lib\\site-packages (from typer<1.0.0,>=0.3.0->spacy>=3.4.0->-r requirements.txt (line 12)) (1.5.4)\n",
      "Requirement already satisfied: markdown-it-py>=2.2.0 in c:\\users\\naya\\appdata\\local\\programs\\python\\python310\\lib\\site-packages (from rich->keras>=3.5.0->tensorflow-intel==2.18.0->tensorflow<2.19,>=2.18->tf-keras>=2.18.0->-r requirements.txt (line 19)) (3.0.0)\n",
      "Requirement already satisfied: mdurl~=0.1 in c:\\users\\naya\\appdata\\local\\programs\\python\\python310\\lib\\site-packages (from markdown-it-py>=2.2.0->rich->keras>=3.5.0->tensorflow-intel==2.18.0->tensorflow<2.19,>=2.18->tf-keras>=2.18.0->-r requirements.txt (line 19)) (0.1.2)\n",
      "Requirement already satisfied: smart-open<8.0.0,>=5.2.1 in c:\\users\\naya\\appdata\\local\\programs\\python\\python310\\lib\\site-packages (from weasel<0.5.0,>=0.1.0->spacy>=3.4.0->-r requirements.txt (line 12)) (7.1.0)\n",
      "Requirement already satisfied: cloudpathlib<1.0.0,>=0.7.0 in c:\\users\\naya\\appdata\\local\\programs\\python\\python310\\lib\\site-packages (from weasel<0.5.0,>=0.1.0->spacy>=3.4.0->-r requirements.txt (line 12)) (0.20.0)\n",
      "Requirement already satisfied: cffi>=1.0.1 in c:\\users\\naya\\appdata\\local\\programs\\python\\python310\\lib\\site-packages (from argon2-cffi-bindings->argon2-cffi>=21.1->jupyter-server<3,>=2.4.0->jupyterlab>=3.4.0->-r requirements.txt (line 13)) (1.17.1)\n",
      "Requirement already satisfied: pycparser in c:\\users\\naya\\appdata\\local\\programs\\python\\python310\\lib\\site-packages (from cffi>=1.0.1->argon2-cffi-bindings->argon2-cffi>=21.1->jupyter-server<3,>=2.4.0->jupyterlab>=3.4.0->-r requirements.txt (line 13)) (2.22)\n",
      "Requirement already satisfied: soupsieve>1.2 in c:\\users\\naya\\appdata\\local\\programs\\python\\python310\\lib\\site-packages (from beautifulsoup4->nbconvert>=6.4.4->jupyter-server<3,>=2.4.0->jupyterlab>=3.4.0->-r requirements.txt (line 13)) (2.6)\n",
      "Requirement already satisfied: zipp>=3.20 in c:\\users\\naya\\appdata\\local\\programs\\python\\python310\\lib\\site-packages (from importlib-metadata->dash>=2.6.0->-r requirements.txt (line 17)) (3.21.0)\n",
      "Requirement already satisfied: arrow>=0.15.0 in c:\\users\\naya\\appdata\\local\\programs\\python\\python310\\lib\\site-packages (from isoduration->jsonschema[format-nongpl]>=4.18.0->jupyter-events>=0.11.0->jupyter-server<3,>=2.4.0->jupyterlab>=3.4.0->-r requirements.txt (line 13)) (1.3.0)\n",
      "Requirement already satisfied: types-python-dateutil>=2.8.10 in c:\\users\\naya\\appdata\\local\\programs\\python\\python310\\lib\\site-packages (from arrow>=0.15.0->isoduration->jsonschema[format-nongpl]>=4.18.0->jupyter-events>=0.11.0->jupyter-server<3,>=2.4.0->jupyterlab>=3.4.0->-r requirements.txt (line 13)) (2.9.0.20241206)\n",
      "Requirement already satisfied: sigstore in c:\\users\\naya\\appdata\\local\\programs\\python\\python310\\lib\\site-packages (from model-signing->kagglehub>=0.3.7->-r requirements.txt (line 18)) (3.6.1)\n",
      "Requirement already satisfied: cryptography in c:\\users\\naya\\appdata\\local\\programs\\python\\python310\\lib\\site-packages (from model-signing->kagglehub>=0.3.7->-r requirements.txt (line 18)) (44.0.0)\n",
      "Requirement already satisfied: in-toto-attestation in c:\\users\\naya\\appdata\\local\\programs\\python\\python310\\lib\\site-packages (from model-signing->kagglehub>=0.3.7->-r requirements.txt (line 18)) (0.9.3)\n",
      "Requirement already satisfied: pyOpenSSL>=23.0.0 in c:\\users\\naya\\appdata\\local\\programs\\python\\python310\\lib\\site-packages (from sigstore->model-signing->kagglehub>=0.3.7->-r requirements.txt (line 18)) (25.0.0)\n",
      "Requirement already satisfied: tuf~=5.0 in c:\\users\\naya\\appdata\\local\\programs\\python\\python310\\lib\\site-packages (from sigstore->model-signing->kagglehub>=0.3.7->-r requirements.txt (line 18)) (5.1.0)\n",
      "Requirement already satisfied: pyasn1~=0.6 in c:\\users\\naya\\appdata\\local\\programs\\python\\python310\\lib\\site-packages (from sigstore->model-signing->kagglehub>=0.3.7->-r requirements.txt (line 18)) (0.6.1)\n",
      "Requirement already satisfied: id>=1.1.0 in c:\\users\\naya\\appdata\\local\\programs\\python\\python310\\lib\\site-packages (from sigstore->model-signing->kagglehub>=0.3.7->-r requirements.txt (line 18)) (1.5.0)\n",
      "Requirement already satisfied: importlib_resources~=5.7 in c:\\users\\naya\\appdata\\local\\programs\\python\\python310\\lib\\site-packages (from sigstore->model-signing->kagglehub>=0.3.7->-r requirements.txt (line 18)) (5.13.0)\n",
      "Requirement already satisfied: sigstore-protobuf-specs==0.3.2 in c:\\users\\naya\\appdata\\local\\programs\\python\\python310\\lib\\site-packages (from sigstore->model-signing->kagglehub>=0.3.7->-r requirements.txt (line 18)) (0.3.2)\n",
      "Requirement already satisfied: pyjwt>=2.1 in c:\\users\\naya\\appdata\\local\\programs\\python\\python310\\lib\\site-packages (from sigstore->model-signing->kagglehub>=0.3.7->-r requirements.txt (line 18)) (2.10.1)\n",
      "Requirement already satisfied: rfc3161-client~=0.1.2 in c:\\users\\naya\\appdata\\local\\programs\\python\\python310\\lib\\site-packages (from sigstore->model-signing->kagglehub>=0.3.7->-r requirements.txt (line 18)) (0.1.2)\n",
      "Requirement already satisfied: sigstore-rekor-types==0.0.18 in c:\\users\\naya\\appdata\\local\\programs\\python\\python310\\lib\\site-packages (from sigstore->model-signing->kagglehub>=0.3.7->-r requirements.txt (line 18)) (0.0.18)\n",
      "Requirement already satisfied: rfc8785~=0.1.2 in c:\\users\\naya\\appdata\\local\\programs\\python\\python310\\lib\\site-packages (from sigstore->model-signing->kagglehub>=0.3.7->-r requirements.txt (line 18)) (0.1.4)\n",
      "Requirement already satisfied: betterproto==2.0.0b6 in c:\\users\\naya\\appdata\\local\\programs\\python\\python310\\lib\\site-packages (from sigstore-protobuf-specs==0.3.2->sigstore->model-signing->kagglehub>=0.3.7->-r requirements.txt (line 18)) (2.0.0b6)\n",
      "Requirement already satisfied: grpclib<0.5.0,>=0.4.1 in c:\\users\\naya\\appdata\\local\\programs\\python\\python310\\lib\\site-packages (from betterproto==2.0.0b6->sigstore-protobuf-specs==0.3.2->sigstore->model-signing->kagglehub>=0.3.7->-r requirements.txt (line 18)) (0.4.7)\n",
      "Requirement already satisfied: multidict in c:\\users\\naya\\appdata\\local\\programs\\python\\python310\\lib\\site-packages (from grpclib<0.5.0,>=0.4.1->betterproto==2.0.0b6->sigstore-protobuf-specs==0.3.2->sigstore->model-signing->kagglehub>=0.3.7->-r requirements.txt (line 18)) (6.1.0)\n",
      "Requirement already satisfied: h2<5,>=3.1.0 in c:\\users\\naya\\appdata\\local\\programs\\python\\python310\\lib\\site-packages (from grpclib<0.5.0,>=0.4.1->betterproto==2.0.0b6->sigstore-protobuf-specs==0.3.2->sigstore->model-signing->kagglehub>=0.3.7->-r requirements.txt (line 18)) (4.2.0)\n",
      "Requirement already satisfied: hpack<5,>=4.1 in c:\\users\\naya\\appdata\\local\\programs\\python\\python310\\lib\\site-packages (from h2<5,>=3.1.0->grpclib<0.5.0,>=0.4.1->betterproto==2.0.0b6->sigstore-protobuf-specs==0.3.2->sigstore->model-signing->kagglehub>=0.3.7->-r requirements.txt (line 18)) (4.1.0)\n",
      "Requirement already satisfied: hyperframe<7,>=6.1 in c:\\users\\naya\\appdata\\local\\programs\\python\\python310\\lib\\site-packages (from h2<5,>=3.1.0->grpclib<0.5.0,>=0.4.1->betterproto==2.0.0b6->sigstore-protobuf-specs==0.3.2->sigstore->model-signing->kagglehub>=0.3.7->-r requirements.txt (line 18)) (6.1.0)\n",
      "Requirement already satisfied: email-validator>=2.0.0 in c:\\users\\naya\\appdata\\local\\programs\\python\\python310\\lib\\site-packages (from pydantic!=1.8,!=1.8.1,<3.0.0,>=1.7.4->spacy>=3.4.0->-r requirements.txt (line 12)) (2.2.0)\n",
      "Requirement already satisfied: dnspython>=2.0.0 in c:\\users\\naya\\appdata\\local\\programs\\python\\python310\\lib\\site-packages (from email-validator>=2.0.0->pydantic!=1.8,!=1.8.1,<3.0.0,>=1.7.4->spacy>=3.4.0->-r requirements.txt (line 12)) (2.7.0)\n",
      "Requirement already satisfied: securesystemslib~=1.0 in c:\\users\\naya\\appdata\\local\\programs\\python\\python310\\lib\\site-packages (from tuf~=5.0->sigstore->model-signing->kagglehub>=0.3.7->-r requirements.txt (line 18)) (1.2.0)\n",
      "Requirement already satisfied: pure-eval in c:\\users\\naya\\appdata\\local\\programs\\python\\python310\\lib\\site-packages (from stack_data->ipython>=7.23.1->ipykernel>=6.5.0->jupyterlab>=3.4.0->-r requirements.txt (line 13)) (0.2.3)\n",
      "Requirement already satisfied: executing>=1.2.0 in c:\\users\\naya\\appdata\\local\\programs\\python\\python310\\lib\\site-packages (from stack_data->ipython>=7.23.1->ipykernel>=6.5.0->jupyterlab>=3.4.0->-r requirements.txt (line 13)) (2.2.0)\n",
      "Requirement already satisfied: asttokens>=2.1.0 in c:\\users\\naya\\appdata\\local\\programs\\python\\python310\\lib\\site-packages (from stack_data->ipython>=7.23.1->ipykernel>=6.5.0->jupyterlab>=3.4.0->-r requirements.txt (line 13)) (3.0.0)\n"
     ]
    },
    {
     "name": "stderr",
     "output_type": "stream",
     "text": [
      "C:\\Users\\Naya\\AppData\\Local\\Temp\\ipykernel_19588\\2439040576.py:1: TqdmWarning: IProgress not found. Please update jupyter and ipywidgets. See https://ipywidgets.readthedocs.io/en/stable/user_install.html\n",
      "  from tqdm.autonotebook import tqdm as notebook_tqdm\n"
     ]
    },
    {
     "name": "stdout",
     "output_type": "stream",
     "text": [
      "absl-py==2.1.0\n",
      "annotated-types==0.7.0\n",
      "anyio==4.8.0\n",
      "argon2-cffi==23.1.0\n",
      "argon2-cffi-bindings==21.2.0\n",
      "arrow==1.3.0\n",
      "asttokens==3.0.0\n",
      "astunparse==1.6.3\n",
      "async-lru==2.0.4\n",
      "attrs==25.1.0\n",
      "babel==2.17.0\n",
      "beautifulsoup4==4.13.3\n",
      "betterproto==2.0.0b6\n",
      "bleach==6.2.0\n",
      "blinker==1.9.0\n",
      "blis==1.2.0\n",
      "catalogue==2.0.10\n",
      "certifi==2025.1.31\n",
      "cffi==1.17.1\n",
      "charset-normalizer==3.4.1\n",
      "click==8.1.8\n",
      "cloudpathlib==0.20.0\n",
      "colorama==0.4.6\n",
      "comm==0.2.2\n",
      "confection==0.1.5\n",
      "contourpy==1.3.1\n",
      "cryptography==44.0.0\n",
      "cycler==0.12.1\n",
      "cymem==2.0.11\n",
      "dash==2.18.2\n",
      "dash-core-components==2.0.0\n",
      "dash-html-components==2.0.0\n",
      "dash-table==5.0.0\n",
      "debugpy==1.8.12\n",
      "decorator==5.1.1\n",
      "defusedxml==0.7.1\n",
      "dnspython==2.7.0\n",
      "doki-theme-jupyter==88.1.1.1.0\n",
      "email_validator==2.2.0\n",
      "exceptiongroup==1.2.2\n",
      "executing==2.2.0\n",
      "fastjsonschema==2.21.1\n",
      "filelock==3.17.0\n",
      "Flask==3.0.3\n",
      "flatbuffers==25.1.24\n",
      "fonttools==4.55.8\n",
      "fqdn==1.5.1\n",
      "fsspec==2025.2.0\n",
      "gast==0.6.0\n",
      "google-pasta==0.2.0\n",
      "grpcio==1.70.0\n",
      "grpclib==0.4.7\n",
      "h11==0.14.0\n",
      "h2==4.2.0\n",
      "h5py==3.12.1\n",
      "hpack==4.1.0\n",
      "httpcore==1.0.7\n",
      "httpx==0.28.1\n",
      "huggingface-hub==0.28.1\n",
      "hyperframe==6.1.0\n",
      "id==1.5.0\n",
      "idna==3.10\n",
      "importlib-resources==5.13.0\n",
      "importlib_metadata==8.6.1\n",
      "in-toto-attestation==0.9.3\n",
      "ipykernel==6.29.5\n",
      "ipython==8.32.0\n",
      "isoduration==20.11.0\n",
      "itsdangerous==2.2.0\n",
      "jedi==0.19.2\n",
      "Jinja2==3.1.5\n",
      "joblib==1.4.2\n",
      "json5==0.10.0\n",
      "jsonpointer==3.0.0\n",
      "jsonschema==4.23.0\n",
      "jsonschema-specifications==2024.10.1\n",
      "jupyter-events==0.12.0\n",
      "jupyter-lsp==2.2.5\n",
      "jupyter_client==8.6.3\n",
      "jupyter_core==5.7.2\n",
      "jupyter_server==2.15.0\n",
      "jupyter_server_terminals==0.5.3\n",
      "jupyterlab==4.3.5\n",
      "jupyterlab_pygments==0.3.0\n",
      "jupyterlab_server==2.27.3\n",
      "kagglehub==0.3.7\n",
      "keras==3.8.0\n",
      "kiwisolver==1.4.8\n",
      "langcodes==3.5.0\n",
      "language_data==1.3.0\n",
      "lesscpy==0.14.0\n",
      "Levenshtein==0.26.1\n",
      "libclang==18.1.1\n",
      "lightgbm==4.5.0\n",
      "marisa-trie==1.2.1\n",
      "Markdown==3.7\n",
      "markdown-it-py==3.0.0\n",
      "MarkupSafe==3.0.2\n",
      "matplotlib==3.10.0\n",
      "matplotlib-inline==0.1.7\n",
      "mdurl==0.1.2\n",
      "mistune==3.1.1\n",
      "ml-dtypes==0.4.1\n",
      "model-signing==0.2.0\n",
      "mpmath==1.3.0\n",
      "multidict==6.1.0\n",
      "murmurhash==1.0.12\n",
      "namex==0.0.8\n",
      "narwhals==1.25.2\n",
      "nbclient==0.10.2\n",
      "nbconvert==7.16.6\n",
      "nbformat==5.10.4\n",
      "nest-asyncio==1.6.0\n",
      "networkx==3.4.2\n",
      "nltk==3.9.1\n",
      "notebook==7.3.2\n",
      "notebook_shim==0.2.4\n",
      "numpy==2.0.2\n",
      "opt_einsum==3.4.0\n",
      "optree==0.14.0\n",
      "overrides==7.7.0\n",
      "packaging==24.2\n",
      "pandas==2.2.3\n",
      "pandocfilters==1.5.1\n",
      "parso==0.8.4\n",
      "pillow==11.1.0\n",
      "platformdirs==4.3.6\n",
      "plotly==6.0.0\n",
      "ply==3.11\n",
      "preshed==3.0.9\n",
      "prometheus_client==0.21.1\n",
      "prompt_toolkit==3.0.50\n",
      "protobuf==5.29.3\n",
      "psutil==6.1.1\n",
      "pure_eval==0.2.3\n",
      "pyasn1==0.6.1\n",
      "pycparser==2.22\n",
      "pydantic==2.10.6\n",
      "pydantic_core==2.27.2\n",
      "Pygments==2.19.1\n",
      "PyJWT==2.10.1\n",
      "pyOpenSSL==25.0.0\n",
      "pyparsing==3.2.1\n",
      "python-dateutil==2.9.0.post0\n",
      "python-json-logger==3.2.1\n",
      "python-Levenshtein==0.26.1\n",
      "pytz==2025.1\n",
      "pywin32==308\n",
      "pywinpty==2.0.15\n",
      "PyYAML==6.0.2\n",
      "pyzmq==26.2.1\n",
      "RapidFuzz==3.12.1\n",
      "referencing==0.36.2\n",
      "regex==2024.11.6\n",
      "requests==2.32.3\n",
      "retrying==1.3.4\n",
      "rfc3161-client==0.1.2\n",
      "rfc3339-validator==0.1.4\n",
      "rfc3986-validator==0.1.1\n",
      "rfc8785==0.1.4\n",
      "rich==13.9.4\n",
      "rpds-py==0.22.3\n",
      "safetensors==0.5.2\n",
      "scikit-learn==1.6.1\n",
      "scipy==1.15.1\n",
      "seaborn==0.13.2\n",
      "securesystemslib==1.2.0\n",
      "Send2Trash==1.8.3\n",
      "shellingham==1.5.4\n",
      "sigstore==3.6.1\n",
      "sigstore-protobuf-specs==0.3.2\n",
      "sigstore-rekor-types==0.0.18\n",
      "six==1.17.0\n",
      "smart-open==7.1.0\n",
      "sniffio==1.3.1\n",
      "soupsieve==2.6\n",
      "spacy==3.8.4\n",
      "spacy-legacy==3.0.12\n",
      "spacy-loggers==1.0.5\n",
      "srsly==2.5.1\n",
      "stack-data==0.6.3\n",
      "sympy==1.13.1\n",
      "tensorboard==2.18.0\n",
      "tensorboard-data-server==0.7.2\n",
      "tensorflow==2.18.0\n",
      "tensorflow-io-gcs-filesystem==0.31.0\n",
      "tensorflow_intel==2.18.0\n",
      "termcolor==2.5.0\n",
      "terminado==0.18.1\n",
      "tf_keras==2.18.0\n",
      "thinc==8.3.4\n",
      "threadpoolctl==3.5.0\n",
      "tinycss2==1.4.0\n",
      "tokenizers==0.21.0\n",
      "tomli==2.2.1\n",
      "torch==2.6.0\n",
      "tornado==6.4.2\n",
      "tqdm==4.67.1\n",
      "traitlets==5.14.3\n",
      "transformers==4.48.3\n",
      "tuf==5.1.0\n",
      "typer==0.15.1\n",
      "types-python-dateutil==2.9.0.20241206\n",
      "typing_extensions==4.12.2\n",
      "tzdata==2025.1\n",
      "uri-template==1.3.0\n",
      "urllib3==2.3.0\n",
      "wasabi==1.1.3\n",
      "wcwidth==0.2.13\n",
      "weasel==0.4.1\n",
      "webcolors==24.11.1\n",
      "webencodings==0.5.1\n",
      "websocket-client==1.8.0\n",
      "Werkzeug==3.0.6\n",
      "wrapt==1.17.2\n",
      "xgboost==2.1.4\n",
      "zipp==3.21.0\n"
     ]
    }
   ],
   "source": [
    "%run template.ipynb"
   ]
  },
  {
   "cell_type": "markdown",
   "id": "34160812-ec6c-4a45-a073-251294283676",
   "metadata": {},
   "source": [
    "## ALL PICS\n",
    "<p>\n",
    "    <img src=\"./pics/0.jpg\" width=\"150\">\n",
    "    <img src=\"./pics/1.jpg\" width=\"150\">\n",
    "    <img src=\"./pics/2.jpg\" width=\"150\">\n",
    "    <img src=\"./pics/3.jpg\" width=\"150\">\n",
    "    <img src=\"./pics/4.jpg\" width=\"150\">\n",
    "    <img src=\"./pics/5.jpg\" width=\"150\">\n",
    "    <img src=\"./pics/6.jpg\" width=\"150\">\n",
    "    <img src=\"./pics/7.jpg\" width=\"150\">\n",
    "    <img src=\"./pics/8.jpg\" width=\"150\">\n",
    "    <img src=\"./pics/9.jpg\" width=\"150\">\n",
    "    <img src=\"./pics/10.jpg\" width=\"150\">\n",
    "    <img src=\"./pics/11.jpg\" width=\"150\">\n",
    "    <img src=\"./pics/12.jpg\" width=\"150\">\n",
    "    <img src=\"./pics/13.jpg\" width=\"150\">\n",
    "    <img src=\"./pics/14.jpg\" width=\"150\">\n",
    "    <img src=\"./pics/15.jpg\" width=\"150\">\n",
    "    <img src=\"./pics/16.jpg\" width=\"150\">\n",
    "    <img src=\"./pics/17.jpg\" width=\"150\">\n",
    "</p>"
   ]
  },
  {
   "cell_type": "markdown",
   "id": "b86fd810-707f-4f03-b3b1-0b196e036ba9",
   "metadata": {},
   "source": [
    "### 0 - rose, 1 - tomato healthy, 2 - tomato leaf healthy, 3 - bell pepper, 4 - tomato with spots, 5 - tomato with mold"
   ]
  },
  {
   "cell_type": "code",
   "execution_count": 17,
   "id": "ae5317cf-b320-451c-984c-5cf122ccd5c8",
   "metadata": {},
   "outputs": [],
   "source": [
    "pics = [\"./pics/0.jpg\", \"./pics/1.jpg\", \"./pics/2.jpg\", \"./pics/3.jpg\", \"./pics/4.jpg\", \"./pics/5.jpg\"]"
   ]
  },
  {
   "attachments": {},
   "cell_type": "markdown",
   "id": "f826816b-0acd-4a07-90fa-a8905f639f57",
   "metadata": {},
   "source": [
    "<p>\n",
    "    <img src=\"./pics/0.jpg\" width=\"180\">\n",
    "    <img src=\"./pics/1.jpg\" width=\"180\">\n",
    "    <img src=\"./pics/2.jpg\" width=\"180\">\n",
    "    <img src=\"./pics/3.jpg\" width=\"180\">\n",
    "    <img src=\"./pics/4.jpg\" width=\"180\">\n",
    "    <img src=\"./pics/5.jpg\" width=\"180\">  \n",
    "</p>"
   ]
  },
  {
   "cell_type": "markdown",
   "id": "45c7bfbd-c620-4ed5-a096-56f75693d519",
   "metadata": {},
   "source": [
    "## На поиск болезней (1) - хорошо "
   ]
  },
  {
   "cell_type": "code",
   "execution_count": null,
   "id": "615e97da-9a43-4e59-ac27-f6bab8568b19",
   "metadata": {},
   "outputs": [],
   "source": [
    "pipe2 = pipeline(\"image-classification\", model=\"swueste/plant-health-image-classifier\")"
   ]
  },
  {
   "cell_type": "code",
   "execution_count": 50,
   "id": "79bb7acb-f44a-4675-9051-ff222fd0444a",
   "metadata": {},
   "outputs": [
    {
     "name": "stdout",
     "output_type": "stream",
     "text": [
      "healthy\n",
      "healthy\n",
      "healthy\n",
      "healthy\n",
      "spots\n",
      "mildew\n",
      "healthy\n",
      "mildew\n",
      "spots\n",
      "healthy\n",
      "healthy\n",
      "healthy\n",
      "healthy\n",
      "healthy\n",
      "healthy\n",
      "healthy\n",
      "healthy\n",
      "healthy\n"
     ]
    }
   ],
   "source": [
    "res = pipe2(inputs = [pic for pic in pics])\n",
    "for p in res:\n",
    "    print(p[0][\"label\"])"
   ]
  },
  {
   "cell_type": "markdown",
   "id": "ffc579d0-e640-42ad-a2a6-5b5eb9b76d0c",
   "metadata": {},
   "source": [
    "##  Без лейблов - не подходит"
   ]
  },
  {
   "cell_type": "code",
   "execution_count": 28,
   "id": "a217c234-2983-40b9-b007-1de8b842e805",
   "metadata": {},
   "outputs": [
    {
     "name": "stderr",
     "output_type": "stream",
     "text": [
      "Device set to use cpu\n"
     ]
    }
   ],
   "source": [
    "# Use a pipeline as a high-level helper\n",
    "from transformers import pipeline\n",
    "pipe = pipeline(\"image-classification\", model=\"ahmed792002/vit-plant-classification\") ;"
   ]
  },
  {
   "cell_type": "code",
   "execution_count": 29,
   "id": "bfb84d76-78ab-4a0b-8b6e-a3fddf01dbe7",
   "metadata": {},
   "outputs": [
    {
     "name": "stdout",
     "output_type": "stream",
     "text": [
      "[[{'label': 'LABEL_30', 'score': 0.8431189060211182}, {'label': 'LABEL_35', 'score': 0.8036286234855652}, {'label': 'LABEL_6', 'score': 0.7749577164649963}, {'label': 'LABEL_29', 'score': 0.7668712735176086}, {'label': 'LABEL_12', 'score': 0.7512249946594238}]]\n"
     ]
    }
   ],
   "source": [
    "print(pipe(inputs = [\"./pics/1.jpg\"]))"
   ]
  },
  {
   "cell_type": "markdown",
   "id": "433e4a90-d67f-4225-92a1-692a4c5e2ea8",
   "metadata": {},
   "source": [
    "## На поиск болезней (2) - не подходит"
   ]
  },
  {
   "cell_type": "code",
   "execution_count": 27,
   "id": "de05e95c-6065-4857-9816-c03bb146c005",
   "metadata": {},
   "outputs": [
    {
     "name": "stderr",
     "output_type": "stream",
     "text": [
      "Device set to use cpu\n"
     ]
    }
   ],
   "source": [
    "pipe3 = pipeline(\"image-classification\", model=\"haiderAI/vision_modelvision_Transformer_plant_disease_detetcion\") ;"
   ]
  },
  {
   "cell_type": "code",
   "execution_count": 26,
   "id": "005a827b-dd77-4f21-9001-38f86a1cd0f3",
   "metadata": {},
   "outputs": [
    {
     "name": "stdout",
     "output_type": "stream",
     "text": [
      "[{'label': 'Late_Blight', 'score': 0.7593992352485657}, {'label': 'Leaf_Mold', 'score': 0.715968132019043}]\n",
      "[{'label': 'Septoria_Leaf_Spot', 'score': 0.8025122880935669}, {'label': 'Late_Blight', 'score': 0.6936768889427185}]\n",
      "[{'label': 'Late_Blight', 'score': 0.9491686224937439}, {'label': 'Septoria_Leaf_Spot', 'score': 0.7142689824104309}]\n",
      "[{'label': 'Septoria_Leaf_Spot', 'score': 0.6890126466751099}, {'label': 'Early_Blight', 'score': 0.6557503342628479}]\n",
      "[{'label': 'Early_Blight', 'score': 0.9682273864746094}, {'label': 'Septoria_Leaf_Spot', 'score': 0.93775475025177}]\n",
      "[{'label': 'Late_Blight', 'score': 0.9982507824897766}, {'label': 'Early_Blight', 'score': 0.882548451423645}]\n"
     ]
    }
   ],
   "source": [
    "res = pipe3(inputs = [pic for pic in pics])\n",
    "for p in res:\n",
    "    print(p[:2])"
   ]
  },
  {
   "cell_type": "markdown",
   "id": "7be961d1-662c-4feb-8267-d697a2f0d762",
   "metadata": {},
   "source": [
    "## Классификация растений (1) - более менее"
   ]
  },
  {
   "cell_type": "code",
   "execution_count": 33,
   "id": "df43d6f7-7a7f-4ac7-a7a6-6e27105ccd4b",
   "metadata": {},
   "outputs": [],
   "source": [
    "pics2 = [\"./pics/6.jpg\", \"./pics/7.jpg\", \"./pics/8.jpg\", \"./pics/9.jpg\", \"./pics/10.jpg\", \"./pics/11.jpg\"]"
   ]
  },
  {
   "attachments": {},
   "cell_type": "markdown",
   "id": "31aa75d9-519d-42ed-9004-377da17326e0",
   "metadata": {},
   "source": [
    "### hibiscus, mint, bamboo, aloevera, geranium, tamarind\n",
    "<p>\n",
    "    <img src=\"./pics/6.jpg\" width=\"180\">\n",
    "    <img src=\"./pics/7.jpg\" width=\"180\">\n",
    "    <img src=\"./pics/8.jpg\" width=\"180\">\n",
    "    <img src=\"./pics/9.jpg\" width=\"180\">\n",
    "    <img src=\"./pics/10.jpg\" width=\"180\">\n",
    "    <img src=\"./pics/11.jpg\" width=\"180\">\n",
    "</p>\n"
   ]
  },
  {
   "cell_type": "code",
   "execution_count": 30,
   "id": "fdae3421-83ae-445d-9e86-906caad4a63d",
   "metadata": {
    "collapsed": true,
    "jupyter": {
     "outputs_hidden": true
    }
   },
   "outputs": [
    {
     "name": "stderr",
     "output_type": "stream",
     "text": [
      "C:\\Users\\Naya\\AppData\\Local\\Programs\\Python\\Python310\\lib\\site-packages\\huggingface_hub\\file_download.py:140: UserWarning: `huggingface_hub` cache-system uses symlinks by default to efficiently store duplicated files but your machine does not support them in C:\\Users\\Naya\\.cache\\huggingface\\hub\\models--dima806--medicinal_plants_image_detection. Caching files will still work but in a degraded version that might require more space on your disk. This warning can be disabled by setting the `HF_HUB_DISABLE_SYMLINKS_WARNING` environment variable. For more details, see https://huggingface.co/docs/huggingface_hub/how-to-cache#limitations.\n",
      "To support symlinks on Windows, you either need to activate Developer Mode or to run Python as an administrator. In order to activate developer mode, see this article: https://docs.microsoft.com/en-us/windows/apps/get-started/enable-your-device-for-development\n",
      "  warnings.warn(message)\n",
      "Device set to use cpu\n"
     ]
    }
   ],
   "source": [
    "pipe4 = pipeline(\"image-classification\", model=\"dima806/medicinal_plants_image_detection\")"
   ]
  },
  {
   "cell_type": "code",
   "execution_count": 40,
   "id": "80b665df-7e1c-422d-ab46-d93bd9802033",
   "metadata": {},
   "outputs": [
    {
     "name": "stdout",
     "output_type": "stream",
     "text": [
      "Hibiscus\n",
      "Mint\n",
      "Neem\n",
      "Aloevera\n",
      "Wood_sorel\n",
      "Wood_sorel\n"
     ]
    }
   ],
   "source": [
    "res = pipe4(inputs = [pic for pic in pics2])\n",
    "for p in res:\n",
    "    print(p[0][\"label\"])"
   ]
  },
  {
   "cell_type": "markdown",
   "id": "1292ed16-ef3f-494f-a24d-ed913a801ae9",
   "metadata": {},
   "source": [
    "## Классификация растений (2) - более менее, много распространенных домашних цветов"
   ]
  },
  {
   "cell_type": "code",
   "execution_count": 5,
   "id": "59316f94-d947-4f62-9736-1bea76cbdcb6",
   "metadata": {},
   "outputs": [],
   "source": [
    "pics3 = [\"./pics/12.jpg\", \"./pics/13.jpg\", \"./pics/14.jpg\", \"./pics/15.jpg\", \"./pics/16.jpg\", \"./pics/17.jpg\"]"
   ]
  },
  {
   "attachments": {},
   "cell_type": "markdown",
   "id": "e643b747-1dfd-48ec-b4da-70483d85d84f",
   "metadata": {},
   "source": [
    "### geranium, sunflower, clematis, yellow iris, bee balm, silverbush\n",
    "<p>\n",
    "    <img src=\"./pics/12.jpg\" width=\"180\">\n",
    "    <img src=\"./pics/13.jpg\" width=\"180\">\n",
    "    <img src=\"./pics/14.jpg\" width=\"180\">\n",
    "    <img src=\"./pics/15.jpg\" width=\"180\">\n",
    "    <img src=\"./pics/16.jpg\" width=\"180\">\n",
    "    <img src=\"./pics/17.jpg\" width=\"180\">\n",
    "</p>"
   ]
  },
  {
   "cell_type": "code",
   "execution_count": 2,
   "id": "d5885239-c83b-43dc-8572-62cab7ccef36",
   "metadata": {},
   "outputs": [
    {
     "name": "stderr",
     "output_type": "stream",
     "text": [
      "C:\\Users\\Naya\\AppData\\Local\\Programs\\Python\\Python310\\lib\\site-packages\\tqdm\\auto.py:21: TqdmWarning: IProgress not found. Please update jupyter and ipywidgets. See https://ipywidgets.readthedocs.io/en/stable/user_install.html\n",
      "  from .autonotebook import tqdm as notebook_tqdm\n"
     ]
    },
    {
     "name": "stdout",
     "output_type": "stream",
     "text": [
      "WARNING:tensorflow:From C:\\Users\\Naya\\AppData\\Local\\Programs\\Python\\Python310\\lib\\site-packages\\tf_keras\\src\\losses.py:2976: The name tf.losses.sparse_softmax_cross_entropy is deprecated. Please use tf.compat.v1.losses.sparse_softmax_cross_entropy instead.\n",
      "\n"
     ]
    },
    {
     "name": "stderr",
     "output_type": "stream",
     "text": [
      "Using a slow image processor as `use_fast` is unset and a slow processor was saved with this model. `use_fast=True` will be the default behavior in v4.48, even if the model was saved with a slow processor. This will result in minor differences in outputs. You'll still be able to use a slow processor with `use_fast=False`.\n",
      "Device set to use cpu\n"
     ]
    }
   ],
   "source": [
    "# Use a pipeline as a high-level helper\n",
    "from transformers import pipeline\n",
    "\n",
    "pipe5 = pipeline(\"image-classification\", model=\"dima806/oxford_flowers_image_detection\")"
   ]
  },
  {
   "cell_type": "code",
   "execution_count": 6,
   "id": "5489e908-f5bf-4025-a23a-32b058c58841",
   "metadata": {},
   "outputs": [
    {
     "name": "stdout",
     "output_type": "stream",
     "text": [
      "sword lily\n",
      "sunflower\n",
      "clematis\n",
      "yellow iris\n",
      "bee balm\n",
      "spring crocus\n"
     ]
    }
   ],
   "source": [
    "res = pipe5(inputs = [pic for pic in pics3])\n",
    "for p in res:\n",
    "    print(p[0][\"label\"])"
   ]
  },
  {
   "cell_type": "code",
   "execution_count": null,
   "id": "0a1c89c0-def6-4ad5-8404-949e1b11682a",
   "metadata": {},
   "outputs": [],
   "source": []
  }
 ],
 "metadata": {
  "kernelspec": {
   "display_name": "Python 3 (ipykernel)",
   "language": "python",
   "name": "python3"
  },
  "language_info": {
   "codemirror_mode": {
    "name": "ipython",
    "version": 3
   },
   "file_extension": ".py",
   "mimetype": "text/x-python",
   "name": "python",
   "nbconvert_exporter": "python",
   "pygments_lexer": "ipython3",
   "version": "3.10.0"
  }
 },
 "nbformat": 4,
 "nbformat_minor": 5
}
