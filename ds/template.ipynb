{
 "cells": [
  {
   "cell_type": "markdown",
   "id": "658b7ee2-4568-486d-b54a-afbb7dd129b6",
   "metadata": {},
   "source": [
    "Степуро Анастасия Андреевна. команда await_docx"
   ]
  },
  {
   "cell_type": "code",
   "execution_count": 3,
   "id": "c0f990e6-849e-48f2-92f0-a198f3bf730e",
   "metadata": {},
   "outputs": [],
   "source": [
    "import numpy as np\n",
    "import matplotlib.pyplot as plt"
   ]
  },
  {
   "cell_type": "code",
   "execution_count": null,
   "id": "a774b50c-feeb-4a86-8b25-f05a27420912",
   "metadata": {},
   "outputs": [],
   "source": []
  }
 ],
 "metadata": {
  "kernelspec": {
   "display_name": "Python 3 (ipykernel)",
   "language": "python",
   "name": "python3"
  },
  "language_info": {
   "codemirror_mode": {
    "name": "ipython",
    "version": 3
   },
   "file_extension": ".py",
   "mimetype": "text/x-python",
   "name": "python",
   "nbconvert_exporter": "python",
   "pygments_lexer": "ipython3",
   "version": "3.10.0"
  }
 },
 "nbformat": 4,
 "nbformat_minor": 5
}
